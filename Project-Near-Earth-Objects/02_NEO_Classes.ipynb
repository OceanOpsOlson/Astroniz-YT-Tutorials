{
 "cells": [
  {
   "cell_type": "code",
   "execution_count": 1,
   "id": "7962dae7-1d3b-499a-a540-7518ced890c4",
   "metadata": {},
   "outputs": [],
   "source": [
    "# Import modules\n",
    "import pathlib\n",
    "import sqlite3"
   ]
  },
  {
   "cell_type": "code",
   "execution_count": 2,
   "id": "efbb82ea-03e9-4b93-bb40-c9fda8995ebb",
   "metadata": {},
   "outputs": [],
   "source": [
    "# Now we create the NEODyS SQLite database for our future project work\n",
    "database_dir = pathlib.Path(\"../databases/neos/\")\n",
    "database_file = pathlib.Path(\"neodys.db\")\n",
    "database_filepath = database_dir / database_file\n",
    "\n",
    "# Create the directory\n",
    "pathlib.Path.mkdir(database_dir, parents=True, exist_ok=True)\n",
    "\n",
    "# Establish a connection to the database and set a cursor\n",
    "neodys_db_con = sqlite3.connect(database_filepath)\n",
    "neodys_db_cur = neodys_db_con.cursor()"
   ]
  },
  {
   "cell_type": "code",
   "execution_count": 3,
   "id": "8164d87b-923b-4d83-afc2-fa7472c2ac0d",
   "metadata": {},
   "outputs": [],
   "source": [
    "def neo_class(sem_maj_axis_au: float,\n",
    "              peri_helio_au: float,\n",
    "              ap_helio_au: float) -> str:\n",
    "    \"\"\"Classify the NEO based on the orbital parameters.\n",
    "    Depending on the semi-major axis, perihelion and / or aphelion a NEO can be classified as an\n",
    "    Amor, Apollo, Aten or Atira.\n",
    "    Parameters\n",
    "    ----------\n",
    "    sem_maj_axis_au : float\n",
    "        Semi-major axis of the NEO. Given in AU\n",
    "    peri_helio_au : float\n",
    "        Perihelion of the NEO. Given in AU\n",
    "    ap_helio_au : float\n",
    "        Aphelion of the NEO. Given in AU\n",
    "    Returns\n",
    "    -------\n",
    "    neo_type : str\n",
    "        NEO class / type.\n",
    "    References\n",
    "    ----------\n",
    "    -1- Link to the NEO classifiction schema: https://cneos.jpl.nasa.gov/about/neo_groups.html\n",
    "    \"\"\"\n",
    "    # Determine the NEO class in an extensive if-else statement\n",
    "    if (sem_maj_axis_au > 1.0) & (1.017 < peri_helio_au < 1.3):\n",
    "        neo_type = 'Amor'\n",
    "\n",
    "    elif (sem_maj_axis_au > 1.0) & (peri_helio_au < 1.017):\n",
    "        neo_type = 'Apollo'\n",
    "\n",
    "    elif (sem_maj_axis_au < 1.0) & (ap_helio_au > 0.983):\n",
    "        neo_type = 'Aten'\n",
    "\n",
    "    elif (sem_maj_axis_au < 1.0) & (ap_helio_au < 0.983):\n",
    "        neo_type = 'Atira'\n",
    "\n",
    "    else:\n",
    "        neo_type = 'Other'\n",
    "\n",
    "    return neo_type"
   ]
  },
  {
   "cell_type": "code",
   "execution_count": 4,
   "id": "462c1115-3c77-4120-abf4-f21b1d66fbab",
   "metadata": {},
   "outputs": [],
   "source": [
    "# Testing the function\n",
    "amor1221 = [1.9191, 1.0832, 2.7550]\n",
    "apollo1862 = [1.4702, 0.64699, \t2.2935]\n",
    "aten2062 = [0.9668, 0.7901, 1.1434]\n",
    "atira163693 = [0.7411, 0.5024, 0.9798]\n",
    "\n",
    "assert \"Amor\" == neo_class(*amor1221)\n",
    "assert \"Apollo\" == neo_class(*apollo1862)\n",
    "assert \"Aten\" == neo_class(*aten2062)\n",
    "assert \"Atira\" == neo_class(*atira163693)"
   ]
  },
  {
   "cell_type": "code",
   "execution_count": 5,
   "id": "7e47a188-dcc2-41d0-9cc0-a50f2b823b04",
   "metadata": {},
   "outputs": [],
   "source": [
    "def create_col(sqlitecon : sqlite3.Connection, \n",
    "               sqlitecur: sqlite3.Cursor,\n",
    "               table: str,\n",
    "               col_name: str,\n",
    "               col_type: str) -> None:\n",
    "    \"\"\"\n",
    "    Function to create new columns in tables.\n",
    "    Parameters\n",
    "    ----------\n",
    "    sqlitecon : sqlite3.Connection\n",
    "        Connection to the SQLite database.\n",
    "    sqlitecur : sqlite3.Cursor\n",
    "        Cursor that points to the SQLite database.\n",
    "    sqlitetable : str\n",
    "        Table name, where a new column shall be added.\n",
    "    col_name : str\n",
    "        Column name.\n",
    "    col_type : str\n",
    "        SQLite column type (FLOAT, INT, TEXT, etc.).\n",
    "    \"\"\"\n",
    "    # Generic f-string that represents an SQLite command to alter a table (adding a new column\n",
    "    # with its dtype).\n",
    "    sql_col_create = f\"ALTER TABLE {table} ADD COLUMN {col_name} {col_type}\"\n",
    "\n",
    "    # Try to create a new column. If is exists an sqlite3.OperationalError will raise. Pass\n",
    "    # this error.\n",
    "    try:\n",
    "        sqlitecur.execute(sql_col_create)\n",
    "        sqlitecon.commit()\n",
    "    except sqlite3.OperationalError:\n",
    "        pass"
   ]
  },
  {
   "cell_type": "code",
   "execution_count": 6,
   "id": "ed15a4a1-bd11-4480-8c46-de5374606acb",
   "metadata": {},
   "outputs": [],
   "source": [
    "# Add a new column in the main table\n",
    "create_col(sqlitecon=neodys_db_con,\n",
    "           sqlitecur=neodys_db_cur,\n",
    "           table=\"main\",\n",
    "           col_name=\"NEOClass\",\n",
    "           col_type=\"Text\")"
   ]
  },
  {
   "cell_type": "code",
   "execution_count": 7,
   "id": "cff5454b-8d6f-4d6c-bd27-3f16aa35f4e8",
   "metadata": {},
   "outputs": [],
   "source": [
    "# Get the orbital elements to compute the NEO class\n",
    "neodys_db_cur.execute(\"SELECT Name, SemMajAxis_AU, Perihel_AU, Aphel_AU FROM main\")\n",
    "\n",
    "# Fetch the data\n",
    "neo_data = neodys_db_cur.fetchall()\n",
    "\n",
    "# Iterate throuh the results, compute the NEO class and put in into the results\n",
    "neo_class_param_dict = []\n",
    "for neo_data_row in neo_data:\n",
    "    neo_class_param_dict.append(\n",
    "        {\n",
    "            \"Name\": neo_data_row[0],\n",
    "            \"NEOClass\": neo_class(\n",
    "                sem_maj_axis_au=neo_data_row[1],\n",
    "                peri_helio_au=neo_data_row[2],\n",
    "                ap_helio_au=neo_data_row[3]\n",
    "            )\n",
    "        }\n",
    "    )\n",
    "\n",
    "# Insert the data into the main table\n",
    "neodys_db_cur.executemany(\n",
    "    \"UPDATE main SET NEOClass = :NEOClass \"\n",
    "    \"WHERE Name = :Name\",\n",
    "    neo_class_param_dict,\n",
    ")\n",
    "neodys_db_con.commit()"
   ]
  },
  {
   "cell_type": "code",
   "execution_count": 8,
   "id": "2831bf1c-e81e-4ec8-8532-3ea51b9802ed",
   "metadata": {},
   "outputs": [],
   "source": [
    "# Close the database. The End of today's session!\n",
    "neodys_db_con.close()"
   ]
  }
 ],
 "metadata": {
  "kernelspec": {
   "display_name": "Python 3 (ipykernel)",
   "language": "python",
   "name": "python3"
  },
  "language_info": {
   "codemirror_mode": {
    "name": "ipython",
    "version": 3
   },
   "file_extension": ".py",
   "mimetype": "text/x-python",
   "name": "python",
   "nbconvert_exporter": "python",
   "pygments_lexer": "ipython3",
   "version": "3.9.7"
  }
 },
 "nbformat": 4,
 "nbformat_minor": 5
}
