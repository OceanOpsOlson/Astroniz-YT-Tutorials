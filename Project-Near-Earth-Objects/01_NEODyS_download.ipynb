{
 "cells": [
  {
   "cell_type": "code",
   "execution_count": null,
   "id": "7962dae7-1d3b-499a-a540-7518ced890c4",
   "metadata": {},
   "outputs": [],
   "source": [
    "# Import modules\n",
    "import re\n",
    "import requests\n",
    "import pathlib\n",
    "import sqlite3\n",
    "\n",
    "# Define the directory and name of the NEODyS data\n",
    "raw_data_dir = pathlib.Path(\"raw_data/\")\n",
    "raw_data_file = pathlib.Path(\"neodys.cat\")\n",
    "\n",
    "raw_data_filepath = raw_data_dir / raw_data_file\n",
    "print(f\"Our NEODyS file path: {raw_data_filepath}\")\n",
    "\n",
    "pathlib.Path.mkdir(raw_data_dir, exist_ok=True)"
   ]
  },
  {
   "cell_type": "code",
   "execution_count": null,
   "id": "80304643-f3e8-4025-a7e6-8e0253bd5b8f",
   "metadata": {},
   "outputs": [],
   "source": [
    "# Get the current number of known NEOs\n",
    "http_response = requests.get(\"https://newton.spacedys.com/neodys/index.php?pc=1.0\")\n",
    "html_content = http_response.content\n",
    "\n",
    "# Extract the number of NEOs from a specific HTML position, using a regular expression. The\n",
    "# number is displayed in bold like \"[...] <b>1000 objects</b> in the NEODys [...]\"\n",
    "neodys_nr_neos = int(re.findall(r\"<b>(.*?) objects</b> in the NEODyS\", str(html_content))[0])"
   ]
  },
  {
   "cell_type": "code",
   "execution_count": null,
   "id": "72528a60-d661-4f2f-9005-fdbcde4f161f",
   "metadata": {},
   "outputs": [],
   "source": [
    "print(f\"Number of currently known NEOs: {neodys_nr_neos}\")"
   ]
  },
  {
   "cell_type": "code",
   "execution_count": null,
   "id": "3617f316-9d47-493e-858a-5fba0115903f",
   "metadata": {},
   "outputs": [],
   "source": [
    "# Download the NEODyS file and store it\n",
    "response = requests.get(\"https://newton.spacedys.com/~neodys2/neodys.cat\")\n",
    "download_file_path = pathlib.Path(raw_data_filepath)\n",
    "with download_file_path.open(mode=\"wb+\") as file_obj:\n",
    "    file_obj.write(response.content)"
   ]
  },
  {
   "cell_type": "code",
   "execution_count": null,
   "id": "ab285dd9-39d1-4bdc-a750-1cc25b055758",
   "metadata": {},
   "outputs": [],
   "source": [
    "# Set a placeholder dictionary where the data will be stored\n",
    "neo_dict = []\n",
    "\n",
    "# Open the NEODyS file. Ignore the header (first 6 rows) and iterate through the file row-wise.\n",
    "# Read the content adn save it in the dictionary\n",
    "with open(raw_data_filepath) as f_temp:\n",
    "    neo_data = f_temp.readlines()[6:]\n",
    "    for neo_data_line_f in neo_data:\n",
    "        neo_data_line = neo_data_line_f.split()\n",
    "        neo_dict.append(\n",
    "            {\n",
    "                \"Name\": neo_data_line[0].replace(\"'\", \"\"),\n",
    "                \"Epoch_MJD\": float(neo_data_line[1]),\n",
    "                \"SemMajAxis_AU\": float(neo_data_line[2]),\n",
    "                \"Ecc_\": float(neo_data_line[3]),\n",
    "                \"Incl_deg\": float(neo_data_line[4]),\n",
    "                \"LongAscNode_deg\": float(neo_data_line[5]),\n",
    "                \"ArgP_deg\": float(neo_data_line[6]),\n",
    "                \"MeanAnom_deg\": float(neo_data_line[7]),\n",
    "                \"AbsMag_\": float(neo_data_line[8]),\n",
    "                \"SlopeParamG_\": float(neo_data_line[9]),\n",
    "            }\n",
    "        )"
   ]
  },
  {
   "cell_type": "code",
   "execution_count": null,
   "id": "f72c40e1-ec6d-44df-91b6-fe3110f65b7c",
   "metadata": {},
   "outputs": [],
   "source": [
    "print(f\"Does the file contain the same number of NEOs as the NEODyS website? \\n\"\n",
    "      f\"{'>Yes' if len(neo_dict) == neodys_nr_neos else '>No'}\")"
   ]
  },
  {
   "cell_type": "code",
   "execution_count": null,
   "id": "d88dbef2-4c16-41c3-8d2e-be3cb903d755",
   "metadata": {},
   "outputs": [],
   "source": [
    "# Let's take a look!\n",
    "neo_dict[:2]"
   ]
  },
  {
   "cell_type": "code",
   "execution_count": null,
   "id": "e09fefcf-ba84-491e-97a3-7f753d29145e",
   "metadata": {},
   "outputs": [],
   "source": [
    "# Now we create the NEODyS SQLite database for our future project work\n",
    "database_dir = pathlib.Path(\"../databases/neos/\")\n",
    "database_file = pathlib.Path(\"neodys.db\")\n",
    "database_filepath = database_dir / database_file\n",
    "\n",
    "# Create the directory\n",
    "pathlib.Path.mkdir(database_dir, parents=True, exist_ok=True)\n",
    "\n",
    "# Establish a connection to the database and set a cursor\n",
    "neodys_db_con = sqlite3.connect(database_filepath)\n",
    "neodys_db_cur = neodys_db_con.cursor()"
   ]
  },
  {
   "cell_type": "code",
   "execution_count": null,
   "id": "65b7aa38-24f5-499d-a037-9271ba121832",
   "metadata": {},
   "outputs": [],
   "source": [
    "# Create the main table\n",
    "neodys_db_cur.execute(\n",
    "    \"CREATE TABLE IF NOT EXISTS main(Name TEXT PRIMARY KEY, \"\n",
    "    \"Epoch_MJD FLOAT, \"\n",
    "    \"SemMajAxis_AU FLOAT, \"\n",
    "    \"Ecc_ FLOAT, \"\n",
    "    \"Incl_deg FLOAT, \"\n",
    "    \"LongAscNode_deg FLOAT, \"\n",
    "    \"ArgP_deg FLOAT, \"\n",
    "    \"MeanAnom_deg FLOAT, \"\n",
    "    \"AbsMag_ FLOAT, \"\n",
    "    \"SlopeParamG_ FLOAT)\"\n",
    ")\n",
    "neodys_db_con.commit()\n",
    "\n",
    "# Insert the raw data into the database\n",
    "neodys_db_cur.executemany(\n",
    "    \"INSERT OR IGNORE INTO main(Name, \"\n",
    "    \"Epoch_MJD, \"\n",
    "    \"SemMajAxis_AU, \"\n",
    "    \"Ecc_, \"\n",
    "    \"Incl_deg, \"\n",
    "    \"LongAscNode_deg, \"\n",
    "    \"ArgP_deg, \"\n",
    "    \"MeanAnom_deg, \"\n",
    "    \"AbsMag_, \"\n",
    "    \"SlopeParamG_) \"\n",
    "    \"VALUES (:Name, \"\n",
    "    \":Epoch_MJD, \"\n",
    "    \":SemMajAxis_AU, \"\n",
    "    \":Ecc_, \"\n",
    "    \":Incl_deg, \"\n",
    "    \":LongAscNode_deg, \"\n",
    "    \":ArgP_deg, \"\n",
    "    \":MeanAnom_deg, \"\n",
    "    \":AbsMag_, \"\n",
    "    \":SlopeParamG_)\",\n",
    "    neo_dict,\n",
    ")\n",
    "neodys_db_con.commit()"
   ]
  },
  {
   "cell_type": "code",
   "execution_count": null,
   "id": "e9b59f2f-49de-4695-a810-5c501431854e",
   "metadata": {},
   "outputs": [],
   "source": [
    "# Add new columns in the main table\n",
    "for col_name in [\"Aphel_AU\", \"Perihel_AU\"]:\n",
    "    \n",
    "    # SQL Query for creating new columns\n",
    "    sql_col_create = f\"ALTER TABLE main ADD COLUMN {col_name} FLOAT\"\n",
    "\n",
    "    # Try to create a new column. If it exists an sqlite3.OperationalError will raise. Pass this error.\n",
    "    try:\n",
    "        neodys_db_cur.execute(sql_col_create)\n",
    "        neodys_db_con.commit()\n",
    "    except sqlite3.OperationalError:\n",
    "        pass"
   ]
  },
  {
   "cell_type": "code",
   "execution_count": null,
   "id": "985670b8-63e2-4296-8744-b80aa422cc5c",
   "metadata": {},
   "outputs": [],
   "source": [
    "# Get orbital elements to compute the derived parameters\n",
    "neodys_db_cur.execute(\"SELECT Name, SemMajAxis_AU, Ecc_ FROM main\")\n",
    "\n",
    "# Fetch the data\n",
    "_neo_data = neodys_db_cur.fetchall()\n",
    "\n",
    "# Iterate throuh the results, compute the derived elements and put them in a list of\n",
    "# dicitionaries\n",
    "_neo_deriv_param_dict = []\n",
    "for _neo_data_line_f in _neo_data:\n",
    "    _neo_deriv_param_dict.append(\n",
    "        {\n",
    "            \"Name\": _neo_data_line_f[0],\n",
    "            \"Aphel_AU\": (1.0 + _neo_data_line_f[2]) * _neo_data_line_f[1],\n",
    "            \"Perihel_AU\": (1.0 - _neo_data_line_f[2]) * _neo_data_line_f[1],\n",
    "        }\n",
    "    )\n",
    "\n",
    "# Insert the data into the main table\n",
    "neodys_db_cur.executemany(\n",
    "    \"UPDATE main SET Aphel_AU = :Aphel_AU, Perihel_AU = :Perihel_AU \"\n",
    "    \"WHERE Name = :Name\",\n",
    "    _neo_deriv_param_dict,\n",
    ")\n",
    "neodys_db_con.commit()"
   ]
  },
  {
   "cell_type": "code",
   "execution_count": null,
   "id": "2831bf1c-e81e-4ec8-8532-3ea51b9802ed",
   "metadata": {},
   "outputs": [],
   "source": [
    "# Close the database. The End of today's session!\n",
    "neodys_db_con.close()"
   ]
  }
 ],
 "metadata": {
  "kernelspec": {
   "display_name": "Python 3 (ipykernel)",
   "language": "python",
   "name": "python3"
  },
  "language_info": {
   "codemirror_mode": {
    "name": "ipython",
    "version": 3
   },
   "file_extension": ".py",
   "mimetype": "text/x-python",
   "name": "python",
   "nbconvert_exporter": "python",
   "pygments_lexer": "ipython3",
   "version": "3.9.7"
  }
 },
 "nbformat": 4,
 "nbformat_minor": 5
}
