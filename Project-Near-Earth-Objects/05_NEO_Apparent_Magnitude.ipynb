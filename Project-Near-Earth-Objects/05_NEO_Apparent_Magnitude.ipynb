{
 "cells": [
  {
   "cell_type": "markdown",
   "id": "da666c72-b3d9-47bc-8d11-390201124f14",
   "metadata": {},
   "source": [
    "# Apparent Magnitude of Asteroids\n",
    "\n",
    "In this notebook we will create some function (and test them) to compute the apparent magnitude of asteroids."
   ]
  },
  {
   "cell_type": "code",
   "execution_count": 1,
   "id": "3ca066f8-b795-4a7c-8217-658ef9c091f5",
   "metadata": {},
   "outputs": [],
   "source": [
    "# Standard libraries\n",
    "import math\n",
    "import pathlib\n",
    "import sqlite3\n",
    "import typing as t\n",
    "\n",
    "# Installed libraries\n",
    "import numpy as np\n",
    "import pandas as pd\n",
    "import spiceypy"
   ]
  },
  {
   "cell_type": "markdown",
   "id": "9bf257c9-11c1-4a00-94d5-79649692303b",
   "metadata": {},
   "source": [
    "## Apparent Magnitude function"
   ]
  },
  {
   "cell_type": "code",
   "execution_count": 2,
   "id": "9777eec4-a992-4bf5-a39e-cf1672629450",
   "metadata": {},
   "outputs": [],
   "source": [
    "# Now let's define some functions (in later tutorials, we will outsource them in a separate folder\n",
    "# Check details here: https://britastro.org/asteroids/dymock4.pdf\n",
    "\n",
    "def phase_func(index: int, phase_angle: float) -> float:\n",
    "    \"\"\"\n",
    "    Phase function that is needed for the H-G visual / apparent magnitude function.\n",
    "    The function has two versions, depending on the index ('1' or '2'). See [1].\n",
    "    Parameters\n",
    "    ----------\n",
    "    index : str\n",
    "        Phase function index / version. '1' or '2'.\n",
    "    phase_angle : float\n",
    "        Phase angle of the asteroid in radians (Angle as seen from the asteroid, pointing to\n",
    "                                                a light source (Sun) and the observer (Earth)).\n",
    "    Returns\n",
    "    -------\n",
    "    phi : float\n",
    "        Phase function result.\n",
    "    See Also\n",
    "    --------\n",
    "    hg_app_mag : Computing the visual / apparent magnitude of an object\n",
    "    References\n",
    "    ----------\n",
    "    [1] https://www.britastro.org/asteroids/dymock4.pdf\n",
    "    Examples\n",
    "    --------\n",
    "    >>> import math\n",
    "    >>> import SolarY\n",
    "    >>> phi1 = SolarY.general.photometry.phase_func(index=1, phase_angle=math.pi / 4.0)\n",
    "    >>> phi1\n",
    "    0.14790968630394927\n",
    "    >>> phi2 = SolarY.general.photometry.phase_func(index=2, phase_angle=math.pi / 4.0)\n",
    "    >>> phi2\n",
    "    0.5283212147726485\n",
    "    \"\"\"\n",
    "    # Dictionaries that contain the A and B constants, depending on the index version\n",
    "    a_factor = {1: 3.33, 2: 1.87}\n",
    "    b_factor = {1: 0.63, 2: 1.22}\n",
    "\n",
    "    # Phase function\n",
    "    phi = math.exp(\n",
    "        -1.0 * a_factor[index] * ((math.tan(0.5 * phase_angle) ** b_factor[index]))\n",
    "    )\n",
    "\n",
    "    # Return the phase function result\n",
    "    return phi\n",
    "\n",
    "\n",
    "def reduc_mag(abs_mag: float, phase_angle: float, slope_g: float = 0.15) -> float:\n",
    "    \"\"\"\n",
    "    Compute the reduced magnitude of an object.\n",
    "    This function is needed for the H-G visual / apparent magnitude function. See [1]\n",
    "    Parameters\n",
    "    ----------\n",
    "    abs_mag : float\n",
    "        Absolute magnitude of the object.\n",
    "    phase_angle : float\n",
    "        Phase angle of the object w.r.t. the illumination source and observer.\n",
    "    slope_g : float, optional\n",
    "        Slope parameter G for the reduced magnitude. The set default value can be applied for\n",
    "        asteroids with unknown slope parameter and the interval is (0, 1). The default is 0.15.\n",
    "    Returns\n",
    "    -------\n",
    "    reduced_magnitude : float\n",
    "        Reduced magnitude of the object.\n",
    "    See Also\n",
    "    --------\n",
    "    hg_app_mag : Computing the visual / apparent magnitude of an object\n",
    "    References\n",
    "    ----------\n",
    "    [1] https://www.britastro.org/asteroids/dymock4.pdf\n",
    "    Examples\n",
    "    --------\n",
    "    >>> import math\n",
    "    >>> import SolarY\n",
    "    >>> reduced_magnitude = SolarY.general.photometry.reduc_mag(\n",
    "    ...     abs_mag=10.0, phase_angle=math.pi / 4.0, slope_g=0.10\n",
    "    ... )\n",
    "    >>> reduced_magnitude\n",
    "    11.826504643588578\n",
    "    Per default, the slope parameter G is set to 0.15 and fits well for most asteroids\n",
    "    >>> reduced_magnitude = SolarY.general.photometry.reduc_mag(\n",
    "    ...     abs_mag=10.0, phase_angle=math.pi / 4.0\n",
    "    ... )\n",
    "    >>> reduced_magnitude\n",
    "    11.720766748872016\n",
    "    \"\"\"\n",
    "    # Compute the reduced magnitude based on the equations given in the references [1]\n",
    "    reduced_magnitude = abs_mag - 2.5 * math.log10(\n",
    "        (1.0 - slope_g) * phase_func(index=1, phase_angle=phase_angle)\n",
    "        + slope_g * phase_func(index=2, phase_angle=phase_angle)\n",
    "    )\n",
    "\n",
    "    return reduced_magnitude\n",
    "\n",
    "\n",
    "def hg_app_mag(\n",
    "    abs_mag: float,\n",
    "    vec_obj2obs: t.Union[t.List[float], t.Tuple[float, float, float]],\n",
    "    vec_obj2ill: t.Union[t.List[float], t.Tuple[float, float, float]],\n",
    "    slope_g: float = 0.15,\n",
    ") -> float:\n",
    "    \"\"\"\n",
    "    Compute the visual / apparent magnitude of an asteroid.\n",
    "    This is based on the H-G system [1], where H represents the absolute magnitude\n",
    "    and G represents the magnitude slope parameter.\n",
    "    Parameters\n",
    "    ----------\n",
    "    abs_mag : float\n",
    "        Absolute magnitude.\n",
    "    vec_obj2obs : list\n",
    "        3 dimensional vector the contains the directional information (x, y, z) from the asteroid\n",
    "        to the observer given in AU.\n",
    "    vec_obj2ill : list\n",
    "        3 dimensional vector the contains the directional information (x, y, z) from the asteroid\n",
    "        to the illumination source given in AU.\n",
    "    slope_g : float, optional\n",
    "        Slope parameter G for the reduced magnitude. The set default value can be applied for\n",
    "        asteroids with unknown slope parameter and the interval is (0, 1). The default is 0.15.\n",
    "    Returns\n",
    "    -------\n",
    "    app_mag : float\n",
    "        Apparent / visual (bolometric) magnitude of the asteroid as seen from the observer.\n",
    "    References\n",
    "    ----------\n",
    "    [1] https://www.britastro.org/asteroids/dymock4.pdf\n",
    "    Examples\n",
    "    --------\n",
    "    >>> import SolarY\n",
    "    >>> apparent_magnitude = SolarY.general.photometry.hg_app_mag(\n",
    "    ...     abs_mag=10.0,\n",
    "    ...     vec_obj2obs=[-1.0, 0.0, 0.0],\n",
    "    ...     vec_obj2ill=[-2.0, 0.0, 0.0],\n",
    "    ...     slope_g=0.10,\n",
    "    ... )\n",
    "    >>> apparent_magnitude\n",
    "    11.505149978319906\n",
    "    \"\"\"\n",
    "    vec_obj2obs = list(vec_obj2obs)\n",
    "    vec_obj2ill = list(vec_obj2ill)\n",
    "\n",
    "    # Compute the length of the two input vectors\n",
    "    vec_obj2obs_norm = np.linalg.norm(vec_obj2obs)\n",
    "    vec_obj2ill_norm = np.linalg.norm(vec_obj2ill)\n",
    "\n",
    "    # Compute the phase angle of the asteroid\n",
    "    dotp_res = sum(v1_i * v2_i for v1_i, v2_i in zip(vec_obj2obs, vec_obj2ill))\n",
    "    obj_phase_angle = math.acos(dotp_res / (vec_obj2obs_norm * vec_obj2ill_norm))\n",
    "\n",
    "    # Compute the reduced magnitude of the asteroid\n",
    "    red_mag = reduc_mag(abs_mag, obj_phase_angle, slope_g)\n",
    "\n",
    "    # Merge all information and compute the apparent magnitude of the asteroid as seen from the\n",
    "    # observer\n",
    "    app_mag = red_mag + 5.0 * math.log10(vec_obj2obs_norm * vec_obj2ill_norm)\n",
    "\n",
    "    return app_mag"
   ]
  },
  {
   "cell_type": "markdown",
   "id": "f6ee59da-b8a4-418c-ba25-dca1fabd7246",
   "metadata": {},
   "source": [
    "## SPICE preparation & (433) Eros data extraction"
   ]
  },
  {
   "cell_type": "code",
   "execution_count": 3,
   "id": "74ca3528-8990-46c8-95be-06d9af36162b",
   "metadata": {},
   "outputs": [],
   "source": [
    "# Load Spice kernels to compute the position of Earth w.r.t. the Sun\n",
    "spiceypy.furnsh(\"../kernels/lsk/naif0012.tls\")\n",
    "spiceypy.furnsh(\"../kernels/spk/de432s.bsp\")\n",
    "\n",
    "# Heliocentric gravitational constant in km^3 * s^-2 (TDB compatible)\n",
    "gm_sun = 1.32712440041e+11\n",
    "\n",
    "# Astronomical Unit in km\n",
    "one_au = 1.49597870700e+8"
   ]
  },
  {
   "cell_type": "code",
   "execution_count": 4,
   "id": "17ed7b4e-2561-4ab5-ad39-0588bbe71fe6",
   "metadata": {},
   "outputs": [],
   "source": [
    "# Accessing the NEO database\n",
    "database_dir = pathlib.Path(\"../databases/neos/\")\n",
    "database_file = pathlib.Path(\"neodys.db\")\n",
    "database_filepath = database_dir / database_file\n",
    "\n",
    "# Establish a connection to the database\n",
    "neodys_db_con = sqlite3.connect(database_filepath)"
   ]
  },
  {
   "cell_type": "code",
   "execution_count": 5,
   "id": "3f159305-c4b5-40c0-8cb7-c5b532ede47a",
   "metadata": {},
   "outputs": [],
   "source": [
    "eros433_df = pd.read_sql_query(\"SELECT * FROM main WHERE NAME == '433'\", neodys_db_con)"
   ]
  },
  {
   "cell_type": "code",
   "execution_count": 6,
   "id": "8154e8e2-0d41-4206-9056-5372e72a5370",
   "metadata": {},
   "outputs": [
    {
     "data": {
      "text/html": [
       "<div>\n",
       "<style scoped>\n",
       "    .dataframe tbody tr th:only-of-type {\n",
       "        vertical-align: middle;\n",
       "    }\n",
       "\n",
       "    .dataframe tbody tr th {\n",
       "        vertical-align: top;\n",
       "    }\n",
       "\n",
       "    .dataframe thead th {\n",
       "        text-align: right;\n",
       "    }\n",
       "</style>\n",
       "<table border=\"1\" class=\"dataframe\">\n",
       "  <thead>\n",
       "    <tr style=\"text-align: right;\">\n",
       "      <th></th>\n",
       "      <th>Name</th>\n",
       "      <th>Epoch_MJD</th>\n",
       "      <th>SemMajAxis_AU</th>\n",
       "      <th>Ecc_</th>\n",
       "      <th>Incl_deg</th>\n",
       "      <th>LongAscNode_deg</th>\n",
       "      <th>ArgP_deg</th>\n",
       "      <th>MeanAnom_deg</th>\n",
       "      <th>AbsMag_</th>\n",
       "      <th>SlopeParamG_</th>\n",
       "      <th>Aphel_AU</th>\n",
       "      <th>Perihel_AU</th>\n",
       "      <th>NEOClass</th>\n",
       "    </tr>\n",
       "  </thead>\n",
       "  <tbody>\n",
       "    <tr>\n",
       "      <th>0</th>\n",
       "      <td>433</td>\n",
       "      <td>59600.0</td>\n",
       "      <td>1.458273</td>\n",
       "      <td>0.222727</td>\n",
       "      <td>10.828461</td>\n",
       "      <td>304.296346</td>\n",
       "      <td>178.897177</td>\n",
       "      <td>246.904119</td>\n",
       "      <td>10.87</td>\n",
       "      <td>0.46</td>\n",
       "      <td>1.78307</td>\n",
       "      <td>1.133476</td>\n",
       "      <td>Amor</td>\n",
       "    </tr>\n",
       "  </tbody>\n",
       "</table>\n",
       "</div>"
      ],
      "text/plain": [
       "  Name  Epoch_MJD  SemMajAxis_AU      Ecc_   Incl_deg  LongAscNode_deg  \\\n",
       "0  433    59600.0       1.458273  0.222727  10.828461       304.296346   \n",
       "\n",
       "     ArgP_deg  MeanAnom_deg  AbsMag_  SlopeParamG_  Aphel_AU  Perihel_AU  \\\n",
       "0  178.897177    246.904119    10.87          0.46   1.78307    1.133476   \n",
       "\n",
       "  NEOClass  \n",
       "0     Amor  "
      ]
     },
     "execution_count": 6,
     "metadata": {},
     "output_type": "execute_result"
    }
   ],
   "source": [
    "eros433_df"
   ]
  },
  {
   "cell_type": "markdown",
   "id": "f1bec8c3-5d07-456c-ac46-94f8ceca2c30",
   "metadata": {},
   "source": [
    "## Earth & (433) Eros position determination"
   ]
  },
  {
   "cell_type": "code",
   "execution_count": 7,
   "id": "24ee2acb-71f3-4562-9c23-455aef8cc44e",
   "metadata": {},
   "outputs": [],
   "source": [
    "utc_timestring = \"2023-08-14T00:00:00\"\n",
    "comp_et = spiceypy.utc2et(utc_timestring)\n",
    "\n",
    "sun_earth_vec = spiceypy.spkgps(targ=399,\n",
    "                                et=comp_et,\n",
    "                                ref=\"ECLIPJ2000\",\n",
    "                                obs=10)[0]\n",
    "\n",
    "et_from_jd = spiceypy.str2et(f\"{eros433_df['Epoch_MJD'].values[0] + 2400000.5} JD\")\n",
    "        \n",
    "sun_eros433_vec = spiceypy.conics(elts=[eros433_df[\"Perihel_AU\"] * one_au,\n",
    "                                        eros433_df[\"Ecc_\"],\n",
    "                                        math.radians(eros433_df[\"Incl_deg\"]),\n",
    "                                        math.radians(eros433_df[\"LongAscNode_deg\"]),\n",
    "                                        math.radians(eros433_df[\"ArgP_deg\"]),\n",
    "                                        math.radians(eros433_df[\"MeanAnom_deg\"]),\n",
    "                                        et_from_jd,\n",
    "                                        gm_sun],\n",
    "                                  et=comp_et)[:3]"
   ]
  },
  {
   "cell_type": "code",
   "execution_count": 8,
   "id": "594fed68-9803-4249-a2eb-04ef75b6dc2d",
   "metadata": {},
   "outputs": [],
   "source": [
    "vec_eros433_to_sun = -1.0 * sun_eros433_vec\n",
    "vec_eros433_to_earth = vec_eros433_to_sun + sun_earth_vec"
   ]
  },
  {
   "cell_type": "markdown",
   "id": "93d6c875-6a16-4267-a747-7fee94804c6d",
   "metadata": {},
   "source": [
    "## (433) Eros apparent magnitude"
   ]
  },
  {
   "cell_type": "code",
   "execution_count": 9,
   "id": "65686dbd-f732-47b1-b434-2dfdd1b4639f",
   "metadata": {},
   "outputs": [],
   "source": [
    "eros433_app_mag = hg_app_mag(abs_mag = eros433_df[\"AbsMag_\"].values[0],\n",
    "                             vec_obj2obs = vec_eros433_to_earth / one_au,\n",
    "                             vec_obj2ill = vec_eros433_to_sun / one_au,\n",
    "                             slope_g = eros433_df[\"SlopeParamG_\"].values[0])"
   ]
  },
  {
   "cell_type": "code",
   "execution_count": 10,
   "id": "19dc95cc-0b46-4367-98a5-619983c0448e",
   "metadata": {},
   "outputs": [
    {
     "name": "stdout",
     "output_type": "stream",
     "text": [
      "Apparent magnitude of (433) Eros on 2023-08-14T00:00:00: 11.71 mag\n"
     ]
    }
   ],
   "source": [
    "print(f\"Apparent magnitude of (433) Eros on {utc_timestring}: {round(eros433_app_mag, 2)} mag\")"
   ]
  }
 ],
 "metadata": {
  "kernelspec": {
   "display_name": "Python 3 (ipykernel)",
   "language": "python",
   "name": "python3"
  },
  "language_info": {
   "codemirror_mode": {
    "name": "ipython",
    "version": 3
   },
   "file_extension": ".py",
   "mimetype": "text/x-python",
   "name": "python",
   "nbconvert_exporter": "python",
   "pygments_lexer": "ipython3",
   "version": "3.9.7"
  }
 },
 "nbformat": 4,
 "nbformat_minor": 5
}
