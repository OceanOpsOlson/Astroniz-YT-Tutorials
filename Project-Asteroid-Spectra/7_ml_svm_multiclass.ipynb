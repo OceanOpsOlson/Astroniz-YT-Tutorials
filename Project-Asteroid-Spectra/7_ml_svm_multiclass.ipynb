{
 "cells": [
  {
   "cell_type": "markdown",
   "id": "ad3452c5",
   "metadata": {},
   "source": [
    "[![Open In Colab](https://colab.research.google.com/assets/colab-badge.svg)](https://colab.research.google.com/github/ThomasAlbin/Astroniz-YT-Tutorials/blob/main/[ML1]-Asteroid-Spectra/7_ml_svm_multiclass.ipynb)"
   ]
  },
  {
   "cell_type": "markdown",
   "id": "f14c9d7a",
   "metadata": {},
   "source": [
    "# Step 7: Machine Learning - Support Vector Machine Multiclass\n",
    "\n",
    "Finally, we focus now on a multiclass SVM"
   ]
  },
  {
   "cell_type": "code",
   "execution_count": 1,
   "id": "63474560",
   "metadata": {},
   "outputs": [],
   "source": [
    "# Import standard libraries\n",
    "import os\n",
    "\n",
    "# Import installed libraries\n",
    "import numpy as np\n",
    "import pandas as pd\n",
    "import sklearn\n",
    "\n",
    "from sklearn import preprocessing\n",
    "from sklearn import svm\n",
    "from sklearn.model_selection import GridSearchCV"
   ]
  },
  {
   "cell_type": "code",
   "execution_count": 2,
   "id": "af9f8681",
   "metadata": {},
   "outputs": [],
   "source": [
    "# Let's mount the Google Drive, where we store files and models (if applicable, otherwise work\n",
    "# locally)\n",
    "try:\n",
    "    from google.colab import drive\n",
    "    drive.mount('/gdrive')\n",
    "    core_path = \"/gdrive/MyDrive/Colab/asteroid_taxonomy/\"\n",
    "except ModuleNotFoundError:\n",
    "    core_path = \"\""
   ]
  },
  {
   "cell_type": "code",
   "execution_count": 3,
   "id": "71bc69f6",
   "metadata": {},
   "outputs": [],
   "source": [
    "# Load the level 2 asteroid data\n",
    "asteroids_df = pd.read_pickle(os.path.join(core_path, \"data/lvl2/\", \"asteroids.pkl\"))"
   ]
  },
  {
   "cell_type": "code",
   "execution_count": 4,
   "id": "62493261",
   "metadata": {},
   "outputs": [],
   "source": [
    "# Allocate the spectra to one array and the classes to another one\n",
    "asteroids_X = np.array([k[\"Reflectance_norm550nm\"].tolist() for k in asteroids_df[\"SpectrumDF\"]])\n",
    "asteroids_y = np.array(asteroids_df[\"Main_Group\"].to_list())"
   ]
  },
  {
   "cell_type": "code",
   "execution_count": 5,
   "id": "39ead307-7368-4991-925d-9daba407e2f5",
   "metadata": {},
   "outputs": [],
   "source": [
    "# In this example we create a single test-training split with a ratio of 0.8 / 0.2\n",
    "from sklearn.model_selection import StratifiedShuffleSplit\n",
    "sss = StratifiedShuffleSplit(n_splits=1, test_size=0.2)\n",
    "\n",
    "# Create a simple, single train / test split\n",
    "for train_index, test_index in sss.split(asteroids_X, asteroids_y):\n",
    "    \n",
    "    X_train, X_test = asteroids_X[train_index], asteroids_X[test_index]\n",
    "    y_train, y_test = asteroids_y[train_index], asteroids_y[test_index]\n",
    "\n",
    "# Compute class weightnings\n",
    "weight_dict = {}\n",
    "for ast_type in np.unique(y_train):\n",
    "    weight_dict[ast_type] = int(1.0 / (len(y_train[y_train == ast_type]) / (len(y_train))))"
   ]
  },
  {
   "cell_type": "code",
   "execution_count": null,
   "id": "87548b42-2b1f-4f2b-8718-600394d91b8a",
   "metadata": {},
   "outputs": [
    {
     "name": "stdout",
     "output_type": "stream",
     "text": [
      "Fitting 5 folds for each of 50 candidates, totalling 250 fits\n",
      "[CV 1/5] END ..............C=1.0, kernel=linear;, score=0.833 total time=   0.0s\n",
      "[CV 2/5] END ..............C=1.0, kernel=linear;, score=0.825 total time=   0.0s\n",
      "[CV 3/5] END ..............C=1.0, kernel=linear;, score=0.808 total time=   0.0s\n",
      "[CV 4/5] END ..............C=1.0, kernel=linear;, score=0.831 total time=   0.0s\n",
      "[CV 5/5] END ..............C=1.0, kernel=linear;, score=0.785 total time=   0.0s\n",
      "[CV 1/5] END C=1.3990503141372939, kernel=linear;, score=0.829 total time=   0.1s\n",
      "[CV 2/5] END C=1.3990503141372939, kernel=linear;, score=0.817 total time=   0.0s\n",
      "[CV 3/5] END C=1.3990503141372939, kernel=linear;, score=0.791 total time=   0.0s\n",
      "[CV 4/5] END C=1.3990503141372939, kernel=linear;, score=0.832 total time=   0.1s\n",
      "[CV 5/5] END C=1.3990503141372939, kernel=linear;, score=0.790 total time=   0.1s\n",
      "[CV 1/5] END C=1.9573417814876604, kernel=linear;, score=0.833 total time=   0.1s\n",
      "[CV 2/5] END C=1.9573417814876604, kernel=linear;, score=0.830 total time=   0.1s\n",
      "[CV 3/5] END C=1.9573417814876604, kernel=linear;, score=0.803 total time=   0.1s\n",
      "[CV 4/5] END C=1.9573417814876604, kernel=linear;, score=0.832 total time=   0.1s\n",
      "[CV 5/5] END C=1.9573417814876604, kernel=linear;, score=0.798 total time=   0.1s\n",
      "[CV 1/5] END C=2.7384196342643614, kernel=linear;, score=0.833 total time=   0.1s\n",
      "[CV 2/5] END C=2.7384196342643614, kernel=linear;, score=0.821 total time=   0.1s\n",
      "[CV 3/5] END C=2.7384196342643614, kernel=linear;, score=0.803 total time=   0.1s\n",
      "[CV 4/5] END C=2.7384196342643614, kernel=linear;, score=0.828 total time=   0.1s\n",
      "[CV 5/5] END C=2.7384196342643614, kernel=linear;, score=0.790 total time=   0.1s\n",
      "[CV 1/5] END C=3.831186849557288, kernel=linear;, score=0.833 total time=   0.1s\n",
      "[CV 2/5] END C=3.831186849557288, kernel=linear;, score=0.818 total time=   0.1s\n",
      "[CV 3/5] END C=3.831186849557288, kernel=linear;, score=0.816 total time=   0.1s\n",
      "[CV 4/5] END C=3.831186849557288, kernel=linear;, score=0.828 total time=   0.1s\n",
      "[CV 5/5] END C=3.831186849557288, kernel=linear;, score=0.798 total time=   0.1s\n",
      "[CV 1/5] END C=5.360023165391793, kernel=linear;, score=0.832 total time=   0.2s\n",
      "[CV 2/5] END C=5.360023165391793, kernel=linear;, score=0.818 total time=   0.1s\n",
      "[CV 3/5] END C=5.360023165391793, kernel=linear;, score=0.833 total time=   0.2s\n",
      "[CV 4/5] END C=5.360023165391793, kernel=linear;, score=0.827 total time=   0.2s\n",
      "[CV 5/5] END C=5.360023165391793, kernel=linear;, score=0.798 total time=   0.2s\n",
      "[CV 1/5] END C=7.498942093324558, kernel=linear;, score=0.836 total time=   0.3s\n",
      "[CV 2/5] END C=7.498942093324558, kernel=linear;, score=0.825 total time=   0.2s\n",
      "[CV 3/5] END C=7.498942093324558, kernel=linear;, score=0.840 total time=   0.3s\n",
      "[CV 4/5] END C=7.498942093324558, kernel=linear;, score=0.823 total time=   0.3s\n",
      "[CV 5/5] END C=7.498942093324558, kernel=linear;, score=0.798 total time=   0.3s\n",
      "[CV 1/5] END C=10.491397291363102, kernel=linear;, score=0.836 total time=   0.3s\n",
      "[CV 2/5] END C=10.491397291363102, kernel=linear;, score=0.840 total time=   0.3s\n",
      "[CV 3/5] END C=10.491397291363102, kernel=linear;, score=0.839 total time=   0.4s\n",
      "[CV 4/5] END C=10.491397291363102, kernel=linear;, score=0.818 total time=   0.3s\n",
      "[CV 5/5] END C=10.491397291363102, kernel=linear;, score=0.798 total time=   0.4s\n",
      "[CV 1/5] END C=14.677992676220699, kernel=linear;, score=0.832 total time=   0.4s\n",
      "[CV 2/5] END C=14.677992676220699, kernel=linear;, score=0.845 total time=   0.4s\n",
      "[CV 3/5] END C=14.677992676220699, kernel=linear;, score=0.835 total time=   0.5s\n",
      "[CV 4/5] END C=14.677992676220699, kernel=linear;, score=0.814 total time=   0.4s\n",
      "[CV 5/5] END C=14.677992676220699, kernel=linear;, score=0.798 total time=   0.6s\n",
      "[CV 1/5] END C=20.53525026457146, kernel=linear;, score=0.824 total time=   0.5s\n",
      "[CV 2/5] END C=20.53525026457146, kernel=linear;, score=0.853 total time=   0.8s\n",
      "[CV 3/5] END C=20.53525026457146, kernel=linear;, score=0.836 total time=   0.7s\n",
      "[CV 4/5] END C=20.53525026457146, kernel=linear;, score=0.814 total time=   0.5s\n",
      "[CV 5/5] END C=20.53525026457146, kernel=linear;, score=0.806 total time=   0.5s\n",
      "[CV 1/5] END C=28.729848333536655, kernel=linear;, score=0.824 total time=   0.9s\n",
      "[CV 2/5] END C=28.729848333536655, kernel=linear;, score=0.853 total time=   1.0s\n",
      "[CV 3/5] END C=28.729848333536655, kernel=linear;, score=0.836 total time=   2.1s\n",
      "[CV 4/5] END C=28.729848333536655, kernel=linear;, score=0.823 total time=   0.6s\n",
      "[CV 5/5] END C=28.729848333536655, kernel=linear;, score=0.797 total time=   0.8s\n",
      "[CV 1/5] END C=40.19450333615126, kernel=linear;, score=0.828 total time=   1.2s\n",
      "[CV 2/5] END C=40.19450333615126, kernel=linear;, score=0.857 total time=   1.7s\n",
      "[CV 3/5] END C=40.19450333615126, kernel=linear;, score=0.835 total time=   1.2s\n",
      "[CV 4/5] END C=40.19450333615126, kernel=linear;, score=0.823 total time=   1.2s\n",
      "[CV 5/5] END C=40.19450333615126, kernel=linear;, score=0.797 total time=   1.1s\n",
      "[CV 1/5] END C=56.23413251903491, kernel=linear;, score=0.824 total time=   2.2s\n",
      "[CV 2/5] END C=56.23413251903491, kernel=linear;, score=0.858 total time=   2.3s\n",
      "[CV 3/5] END C=56.23413251903491, kernel=linear;, score=0.839 total time=   2.6s\n",
      "[CV 4/5] END C=56.23413251903491, kernel=linear;, score=0.815 total time=   1.3s\n",
      "[CV 5/5] END C=56.23413251903491, kernel=linear;, score=0.797 total time=   1.8s\n",
      "[CV 1/5] END C=78.67438076599402, kernel=linear;, score=0.836 total time=   2.2s\n",
      "[CV 2/5] END C=78.67438076599402, kernel=linear;, score=0.846 total time=   2.3s\n",
      "[CV 3/5] END C=78.67438076599402, kernel=linear;, score=0.843 total time=   2.3s\n",
      "[CV 4/5] END C=78.67438076599402, kernel=linear;, score=0.807 total time=   2.5s\n",
      "[CV 5/5] END C=78.67438076599402, kernel=linear;, score=0.796 total time=   2.3s\n",
      "[CV 1/5] END C=110.06941712522104, kernel=linear;, score=0.837 total time=   3.9s\n",
      "[CV 2/5] END C=110.06941712522104, kernel=linear;, score=0.842 total time=   3.7s\n",
      "[CV 3/5] END C=110.06941712522104, kernel=linear;, score=0.840 total time=   3.9s\n",
      "[CV 4/5] END C=110.06941712522104, kernel=linear;, score=0.806 total time=   4.1s\n",
      "[CV 5/5] END C=110.06941712522104, kernel=linear;, score=0.796 total time=   4.9s\n",
      "[CV 1/5] END C=153.9926526059492, kernel=linear;, score=0.837 total time=   8.1s\n",
      "[CV 2/5] END C=153.9926526059492, kernel=linear;, score=0.838 total time=   4.5s\n",
      "[CV 3/5] END C=153.9926526059492, kernel=linear;, score=0.848 total time=   7.8s\n",
      "[CV 4/5] END C=153.9926526059492, kernel=linear;, score=0.797 total time=   6.0s\n",
      "[CV 5/5] END C=153.9926526059492, kernel=linear;, score=0.804 total time=   8.4s\n",
      "[CV 1/5] END C=215.44346900318845, kernel=linear;, score=0.841 total time=   8.0s\n",
      "[CV 2/5] END C=215.44346900318845, kernel=linear;, score=0.838 total time=   7.0s\n",
      "[CV 3/5] END C=215.44346900318845, kernel=linear;, score=0.853 total time=   7.9s\n",
      "[CV 4/5] END C=215.44346900318845, kernel=linear;, score=0.801 total time=   7.5s\n"
     ]
    }
   ],
   "source": [
    "from sklearn.metrics import make_scorer, f1_score\n",
    "\n",
    "# Perform now a GridSearch with the following parameter range and kernels\n",
    "param_grid = [\n",
    "  {'C': np.logspace(0, 3.5, 25), 'kernel': ['linear']},\n",
    "  {'C': np.logspace(0, 3.5, 25), 'kernel': ['rbf']},\n",
    " ]\n",
    "\n",
    "# Set the SVM classifier\n",
    "svc = svm.SVC(class_weight=weight_dict)\n",
    "\n",
    "# Instantiate the StandardScaler (mean 0, standard deviation 1) and use the training data to fit\n",
    "# the scaler\n",
    "scaler = preprocessing.StandardScaler().fit(X_train)\n",
    "\n",
    "# Transform now the training data\n",
    "X_train_scaled = scaler.transform(X_train)\n",
    "\n",
    "# Set the GridSearch. Use the f1 \"weighted\" score in a maker_scorer function. And ...\n",
    "wclf = GridSearchCV(svc, param_grid, scoring=make_scorer(f1_score, average=\"weighted\"), verbose=3, cv=5)\n",
    "\n",
    "# ... perform the training!\n",
    "wclf.fit(X_train_scaled, y_train)"
   ]
  },
  {
   "cell_type": "code",
   "execution_count": null,
   "id": "16c0d08f-5dea-4595-9041-30201d1a91f2",
   "metadata": {},
   "outputs": [],
   "source": [
    "# Let's print some SVM results\n",
    "final_clf = wclf.best_estimator_\n",
    "\n",
    "print(f\"Kernel with the best result: {final_clf.kernel}\")\n",
    "print(f\"SVM information: {final_clf}\")"
   ]
  },
  {
   "cell_type": "code",
   "execution_count": null,
   "id": "6985e960",
   "metadata": {},
   "outputs": [],
   "source": [
    "# Scale the testing data ...\n",
    "X_test_scaled = scaler.transform(X_test)\n",
    "\n",
    "# ... and perform a predicition\n",
    "y_test_pred = final_clf.predict(X_test_scaled)"
   ]
  },
  {
   "cell_type": "code",
   "execution_count": null,
   "id": "97aa4039",
   "metadata": {},
   "outputs": [],
   "source": [
    "# Import the confusion matrix and perform the computation\n",
    "from sklearn.metrics import confusion_matrix\n",
    "conf_mat = confusion_matrix(y_test, y_test_pred, labels=[\"C\", \"S\", \"X\", \"Other\"])\n",
    "\n",
    "print(conf_mat)"
   ]
  },
  {
   "cell_type": "code",
   "execution_count": null,
   "id": "ca1039f4-113a-49b0-8569-4ef911389da6",
   "metadata": {},
   "outputs": [],
   "source": [
    "# For a better visualisation, let's plot the confusion matrix\n",
    "import matplotlib.pyplot as plt  \n",
    "from sklearn.metrics import plot_confusion_matrix\n",
    "\n",
    "plot_confusion_matrix(final_clf, X_test_scaled, y_test, values_format='d')  \n",
    "plt.show()  "
   ]
  },
  {
   "cell_type": "code",
   "execution_count": null,
   "id": "5686e26e",
   "metadata": {},
   "outputs": [],
   "source": [
    "# A combined score\n",
    "f1_score = round(sklearn.metrics.f1_score(y_test, y_test_pred, average=\"weighted\"), 3)\n",
    "print(f\"F1 Score: {f1_score}\")"
   ]
  }
 ],
 "metadata": {
  "kernelspec": {
   "display_name": "Python 3 (ipykernel)",
   "language": "python",
   "name": "python3"
  },
  "language_info": {
   "codemirror_mode": {
    "name": "ipython",
    "version": 3
   },
   "file_extension": ".py",
   "mimetype": "text/x-python",
   "name": "python",
   "nbconvert_exporter": "python",
   "pygments_lexer": "ipython3",
   "version": "3.9.7"
  }
 },
 "nbformat": 4,
 "nbformat_minor": 5
}
