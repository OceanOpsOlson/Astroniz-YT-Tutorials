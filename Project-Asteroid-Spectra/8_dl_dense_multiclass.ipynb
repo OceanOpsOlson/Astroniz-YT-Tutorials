{
 "cells": [
  {
   "cell_type": "markdown",
   "id": "ad3452c5",
   "metadata": {},
   "source": [
    "[![Open In Colab](https://colab.research.google.com/assets/colab-badge.svg)](https://colab.research.google.com/github/ThomasAlbin/Astroniz-YT-Tutorials/blob/main/[ML1]-Asteroid-Spectra/8_dl_dense_multiclass.ipynb)"
   ]
  },
  {
   "cell_type": "markdown",
   "id": "f14c9d7a",
   "metadata": {},
   "source": [
    "# Step 8: Deep Learning - A Dense Network\n",
    "\n",
    "Now it is time to start using [keras](https://www.tensorflow.org/api_docs/python/tf/keras) for our next step: applying neural network architectures on or spectra data.\n",
    "\n",
    "In this session we will start eeeeeeasily by creating a simple \"Dense-layer-based\" neural network. Please note: we are not covering the theory of neural networks in detail. I think there are tons of amazing tutorials, animations and videos out there that would easily outperform my useless drawing skills. Here, we simply focus on space science data, namely asteroid spectra.\n",
    "\n",
    "Anyway. The next session will cover convolutional networks, just for demonstration purposes and then we will cover something ... more interesting I think, where I will also focus on describing more complex architectures.\n",
    "\n",
    "Happy coding!"
   ]
  },
  {
   "cell_type": "code",
   "execution_count": 1,
   "id": "63474560",
   "metadata": {},
   "outputs": [],
   "source": [
    "# Import standard libraries\n",
    "import os\n",
    "\n",
    "# Import installed libraries\n",
    "import numpy as np\n",
    "import pandas as pd\n",
    "\n",
    "import sklearn\n",
    "from sklearn import preprocessing"
   ]
  },
  {
   "cell_type": "code",
   "execution_count": 2,
   "id": "af9f8681",
   "metadata": {},
   "outputs": [],
   "source": [
    "# Let's mount the Google Drive, where we store files and models (if applicable, otherwise work\n",
    "# locally)\n",
    "try:\n",
    "    from google.colab import drive\n",
    "    drive.mount('/gdrive')\n",
    "    core_path = \"/gdrive/MyDrive/Colab/asteroid_taxonomy/\"\n",
    "except ModuleNotFoundError:\n",
    "    core_path = \"\""
   ]
  },
  {
   "cell_type": "code",
   "execution_count": 3,
   "id": "71bc69f6",
   "metadata": {},
   "outputs": [],
   "source": [
    "# Load the level 2 asteroid data\n",
    "asteroids_df = pd.read_pickle(os.path.join(core_path, \"data/lvl2/\", \"asteroids.pkl\"))"
   ]
  },
  {
   "cell_type": "code",
   "execution_count": 4,
   "id": "62493261",
   "metadata": {},
   "outputs": [],
   "source": [
    "# Allocate the spectra to one array and the classes to another one\n",
    "asteroids_X = np.array([k[\"Reflectance_norm550nm\"].tolist() for k in asteroids_df[\"SpectrumDF\"]])\n",
    "asteroids_y = np.array(asteroids_df[\"Main_Group\"].to_list())"
   ]
  },
  {
   "cell_type": "code",
   "execution_count": 5,
   "id": "66b5dfa2-89d5-4a0f-8e73-544f5fd60147",
   "metadata": {},
   "outputs": [],
   "source": [
    "# We need to encode our string-based labels to either a sparse representation (class C becomes 0,\n",
    "# S becomes 1, etc.) or to One-Hot-Encoding (e.g., C becomes [1, 0, 0, 0], S becomes [0, 1, 0, 0]\n",
    "# and so on.\n",
    "\n",
    "# Please note: a better way to create models that can be used in production, encoding shall be\n",
    "# stored e.g., in a json file. Otherwise one needs to store the encoding class (otherwise the\n",
    "# encoding - decoding information is gone!!!)\n",
    "label_encoder = preprocessing.OneHotEncoder(sparse=True)\n",
    "asteroids_oh_y = label_encoder.fit_transform(asteroids_y.reshape(-1,1)).toarray()"
   ]
  },
  {
   "cell_type": "code",
   "execution_count": 6,
   "id": "568f218c-c1e2-48a1-a845-791da8dded4d",
   "metadata": {},
   "outputs": [
    {
     "name": "stdout",
     "output_type": "stream",
     "text": [
      "[1. 0. 0. 0.]\n"
     ]
    }
   ],
   "source": [
    "# Let's take a look at a class\n",
    "print(asteroids_oh_y[0])"
   ]
  },
  {
   "cell_type": "code",
   "execution_count": 7,
   "id": "c65ba888-0dc2-400a-b3ca-6aebab07de8f",
   "metadata": {},
   "outputs": [
    {
     "name": "stdout",
     "output_type": "stream",
     "text": [
      "One-Hot-Vector [1, 0, 0, 0] corresponds to the Main Group: C\n",
      "One-Hot-Vector [0, 1, 0, 0] corresponds to the Main Group: Other\n",
      "One-Hot-Vector [0, 0, 1, 0] corresponds to the Main Group: S\n",
      "One-Hot-Vector [0, 0, 0, 1] corresponds to the Main Group: X\n"
     ]
    }
   ],
   "source": [
    "# OK how are things encoded?\n",
    "oh_init = [1, 0, 0, 0]\n",
    "for n in range(4):\n",
    "    oh_class = oh_init[-n:] + oh_init[:-n]\n",
    "    org_class = label_encoder.inverse_transform([oh_class])\n",
    "    print(f\"One-Hot-Vector {oh_class} corresponds to the Main Group: {org_class[0][0]}\")"
   ]
  },
  {
   "cell_type": "code",
   "execution_count": 8,
   "id": "39ead307-7368-4991-925d-9daba407e2f5",
   "metadata": {},
   "outputs": [],
   "source": [
    "# In this example we create a single test-training split with a ratio of 0.8 / 0.2\n",
    "from sklearn.model_selection import StratifiedShuffleSplit\n",
    "sss = StratifiedShuffleSplit(n_splits=1, test_size=0.2)\n",
    "\n",
    "# Create a simple, single train / test split\n",
    "for train_index, test_index in sss.split(asteroids_X, asteroids_y):\n",
    "    \n",
    "    X_train, X_test = asteroids_X[train_index], asteroids_X[test_index]\n",
    "    y_train, y_test = asteroids_oh_y[train_index], asteroids_oh_y[test_index]"
   ]
  },
  {
   "cell_type": "markdown",
   "id": "e6b682a0-001d-43f3-9b1f-1b0c2c1aeebd",
   "metadata": {},
   "source": [
    "## Imbalanced Datasets\n",
    "\n",
    "... are a pain to work with. But it doesn't need to be, if you are aware of some pitfalls and useful metrics. Tensorflow provides a nice blog post [here](https://www.tensorflow.org/tutorials/structured_data/imbalanced_data)"
   ]
  },
  {
   "cell_type": "code",
   "execution_count": 9,
   "id": "6e5b4b9b-03a8-4b68-a99f-dcc4aaf41019",
   "metadata": {},
   "outputs": [],
   "source": [
    "# We need to create weights for our samples. Similar like the class weights, but here, our classes\n",
    "# are one-hot encoded. Sample weights are easier to handle!\n",
    "from sklearn.utils.class_weight import compute_sample_weight\n",
    "sample_weight = compute_sample_weight(\"balanced\", y=y_train)"
   ]
  },
  {
   "cell_type": "code",
   "execution_count": 10,
   "id": "1415a951-37c8-403b-bd22-46249d3d7c96",
   "metadata": {
    "tags": []
   },
   "outputs": [
    {
     "name": "stdout",
     "output_type": "stream",
     "text": [
      "Model: \"model\"\n",
      "_________________________________________________________________\n",
      " Layer (type)                Output Shape              Param #   \n",
      "=================================================================\n",
      " input_1 (InputLayer)        [(None, 49)]              0         \n",
      "                                                                 \n",
      " normalization (Normalizatio  (None, 49)               99        \n",
      " n)                                                              \n",
      "                                                                 \n",
      " dense (Dense)               (None, 25)                1250      \n",
      "                                                                 \n",
      " re_lu (ReLU)                (None, 25)                0         \n",
      "                                                                 \n",
      " dense_1 (Dense)             (None, 10)                260       \n",
      "                                                                 \n",
      " re_lu_1 (ReLU)              (None, 10)                0         \n",
      "                                                                 \n",
      " dense_2 (Dense)             (None, 4)                 44        \n",
      "                                                                 \n",
      "=================================================================\n",
      "Total params: 1,653\n",
      "Trainable params: 1,554\n",
      "Non-trainable params: 99\n",
      "_________________________________________________________________\n"
     ]
    },
    {
     "name": "stderr",
     "output_type": "stream",
     "text": [
      "2022-03-19 12:52:58.800566: I tensorflow/core/platform/cpu_feature_guard.cc:151] This TensorFlow binary is optimized with oneAPI Deep Neural Network Library (oneDNN) to use the following CPU instructions in performance-critical operations:  AVX2 FMA\n",
      "To enable them in other operations, rebuild TensorFlow with the appropriate compiler flags.\n"
     ]
    }
   ],
   "source": [
    "import tensorflow.keras as keras\n",
    "\n",
    "# Get the number of inputs\n",
    "n_inputs = asteroids_X.shape[1]\n",
    "\n",
    "def create_model():\n",
    "\n",
    "    # Normalizsation layer (like the scikit-learn StandardScaler)\n",
    "    normalizer = keras.layers.Normalization(axis=1)\n",
    "    normalizer.adapt(X_train)\n",
    "\n",
    "    # Create now a simple Dense based network\n",
    "    input_layer = keras.Input(shape=(n_inputs,))\n",
    "\n",
    "    hidden_layer = normalizer(input_layer)\n",
    "    \n",
    "    hidden_layer = keras.layers.Dense(25)(hidden_layer)\n",
    "    hidden_layer = keras.layers.ReLU()(hidden_layer)\n",
    "\n",
    "    hidden_layer = keras.layers.Dense(10)(hidden_layer)\n",
    "    hidden_layer = keras.layers.ReLU()(hidden_layer)\n",
    "\n",
    "    output_layer = keras.layers.Dense(4, activation=\"softmax\")(hidden_layer)\n",
    "\n",
    "    # Create now the model\n",
    "    model = keras.models.Model(inputs=input_layer, outputs=output_layer)\n",
    "    \n",
    "    return model\n",
    "\n",
    "model = create_model()\n",
    "\n",
    "# Compile the model. Since we have one-hot encoded classes we use the categorical crossentropy\n",
    "model.compile(optimizer='rmsprop', loss='categorical_crossentropy')\n",
    "\n",
    "# Show the model summary\n",
    "model.summary()\n",
    "\n",
    "# The training won't take long. Let's exceed the number of epochs\n",
    "end_epoch = 500\n",
    "batch_size = 32\n",
    "\n",
    "# And train! With a validation split of 25 % and the splitting prior we have:\n",
    "# Training: 60 %\n",
    "# Validation: 20 %\n",
    "# Test: 20 %\n",
    "history = model.fit(X_train, y_train,\n",
    "                    epochs=end_epoch,\n",
    "                    batch_size=batch_size,\n",
    "                    verbose=0, \n",
    "                    validation_split=0.25,\n",
    "                    sample_weight=sample_weight)"
   ]
  },
  {
   "cell_type": "code",
   "execution_count": 11,
   "id": "80436863-c014-44f1-aed5-8293bc21bbc7",
   "metadata": {},
   "outputs": [
    {
     "name": "stdout",
     "output_type": "stream",
     "text": [
      "'Last' batch size: 15\n"
     ]
    }
   ],
   "source": [
    "# Please note, online tutorials show mostly \"default\" batch sizes, like 32, 64, etc. But take a\n",
    "# look at the size of the last batch. It does not correspond to the batch size itself! Be aware of\n",
    "# these things\n",
    "print(f\"'Last' batch size: {len(X_train) % batch_size}\")"
   ]
  },
  {
   "cell_type": "code",
   "execution_count": 12,
   "id": "a0a25651-9f1d-40e8-a005-25068ba37b15",
   "metadata": {},
   "outputs": [
    {
     "data": {
      "text/plain": [
       "Text(0, 0.5, 'Loss')"
      ]
     },
     "execution_count": 12,
     "metadata": {},
     "output_type": "execute_result"
    },
    {
     "data": {
      "image/png": "[encoded data removed]",
      "text/plain": [
       "<Figure size 720x576 with 1 Axes>"
      ]
     },
     "metadata": {},
     "output_type": "display_data"
    }
   ],
   "source": [
    "# Let's plot the losses\n",
    "from matplotlib import pyplot as plt\n",
    "\n",
    "plt.style.use(\"dark_background\")\n",
    "\n",
    "plt.figure(figsize=(10, 8))\n",
    "\n",
    "plt.plot(np.arange(1,end_epoch+1,1),\n",
    "         history.history[\"loss\"], color=\"tab:blue\", label=\"Training Loss\")\n",
    "plt.plot(np.arange(1,end_epoch+1,1),\n",
    "         history.history[\"val_loss\"], color=\"tab:green\", label=\"Validation Loss\")\n",
    "\n",
    "plt.legend()\n",
    "\n",
    "plt.xlabel(\"Epoch\")\n",
    "plt.ylabel(\"Loss\")"
   ]
  },
  {
   "cell_type": "code",
   "execution_count": 13,
   "id": "e717b55e-d0a9-4fb9-9977-d6bd8a462a28",
   "metadata": {
    "tags": []
   },
   "outputs": [
    {
     "name": "stdout",
     "output_type": "stream",
     "text": [
      "Model: \"model_1\"\n",
      "_________________________________________________________________\n",
      " Layer (type)                Output Shape              Param #   \n",
      "=================================================================\n",
      " input_2 (InputLayer)        [(None, 49)]              0         \n",
      "                                                                 \n",
      " normalization_1 (Normalizat  (None, 49)               99        \n",
      " ion)                                                            \n",
      "                                                                 \n",
      " dense_3 (Dense)             (None, 25)                1250      \n",
      "                                                                 \n",
      " re_lu_2 (ReLU)              (None, 25)                0         \n",
      "                                                                 \n",
      " dense_4 (Dense)             (None, 10)                260       \n",
      "                                                                 \n",
      " re_lu_3 (ReLU)              (None, 10)                0         \n",
      "                                                                 \n",
      " dense_5 (Dense)             (None, 4)                 44        \n",
      "                                                                 \n",
      "=================================================================\n",
      "Total params: 1,653\n",
      "Trainable params: 1,554\n",
      "Non-trainable params: 99\n",
      "_________________________________________________________________\n"
     ]
    }
   ],
   "source": [
    "# Early Stopping for our final model\n",
    "es_callback = keras.callbacks.EarlyStopping(monitor='val_loss', patience=10)\n",
    "\n",
    "model = create_model()\n",
    "\n",
    "# Compile the model. Since we have one-hot encoded classes we use the categorical crossentropy\n",
    "model.compile(optimizer='rmsprop', loss='categorical_crossentropy')\n",
    "\n",
    "# Show the model summary\n",
    "model.summary()\n",
    "\n",
    "# The training won't take long. Let's exceed the number of epochs\n",
    "end_epoch = 500\n",
    "batch_size = 32\n",
    "\n",
    "history = model.fit(X_train, y_train,\n",
    "                    epochs=end_epoch,\n",
    "                    batch_size=batch_size,\n",
    "                    verbose=0, \n",
    "                    validation_split=0.25,\n",
    "                    sample_weight=sample_weight,\n",
    "                    callbacks=[es_callback])"
   ]
  },
  {
   "cell_type": "code",
   "execution_count": 14,
   "id": "beaecce2-b92f-4ae4-9429-dae629fcc3e1",
   "metadata": {},
   "outputs": [
    {
     "name": "stdout",
     "output_type": "stream",
     "text": [
      "[[1.29795794e-07 1.03094885e-02 9.89566445e-01 1.23920254e-04]\n",
      " [6.06956547e-08 1.54630737e-02 9.84533668e-01 3.14087424e-06]\n",
      " [4.80215560e-04 6.52816539e-07 3.71580029e-07 9.99518871e-01]\n",
      " ...\n",
      " [9.99819338e-01 4.48895003e-17 1.00502703e-16 1.80703719e-04]\n",
      " [4.10871138e-07 1.12201907e-02 9.88674343e-01 1.05089777e-04]\n",
      " [1.89255559e-06 1.52781308e-02 9.84641254e-01 7.86826204e-05]]\n"
     ]
    }
   ],
   "source": [
    "# Compute class probabilities\n",
    "y_test_prop_pred = model.predict(X_test)\n",
    "print(y_test_prop_pred)"
   ]
  },
  {
   "cell_type": "code",
   "execution_count": 15,
   "id": "a42f47d4-7039-4579-9b82-e39d62691fcd",
   "metadata": {},
   "outputs": [
    {
     "name": "stdout",
     "output_type": "stream",
     "text": [
      "[[0. 0. 1. 0.]\n",
      " [0. 0. 1. 0.]\n",
      " [0. 0. 0. 1.]\n",
      " ...\n",
      " [1. 0. 0. 0.]\n",
      " [0. 0. 1. 0.]\n",
      " [0. 0. 1. 0.]]\n"
     ]
    }
   ],
   "source": [
    "# Compute the corresponding one-hot classes\n",
    "y_test_oh_pred = np.zeros_like(y_test_prop_pred)\n",
    "y_test_oh_pred[np.arange(len(y_test_prop_pred)), y_test_prop_pred.argmax(1)] = 1\n",
    "print(y_test_oh_pred)"
   ]
  },
  {
   "cell_type": "code",
   "execution_count": 16,
   "id": "d160920b-2529-4d2a-958d-e26f6c819cd6",
   "metadata": {},
   "outputs": [],
   "source": [
    "# Re-transform the classes now!\n",
    "asteroid_classes_test = label_encoder.inverse_transform(y_test).reshape(1, -1)[0]\n",
    "asteroid_classes_test_pred = label_encoder.inverse_transform(y_test_oh_pred).reshape(1, -1)[0]"
   ]
  },
  {
   "cell_type": "code",
   "execution_count": 17,
   "id": "66b37621-7868-4dad-a74d-1ef2424cf001",
   "metadata": {},
   "outputs": [
    {
     "data": {
      "image/png": "[encoded data removed]",
      "text/plain": [
       "<Figure size 432x288 with 2 Axes>"
      ]
     },
     "metadata": {},
     "output_type": "display_data"
    }
   ],
   "source": [
    "from sklearn.metrics import ConfusionMatrixDisplay, confusion_matrix\n",
    "\n",
    "# Compute the confusion matrix\n",
    "conf_mat = confusion_matrix(asteroid_classes_test,\n",
    "                            asteroid_classes_test_pred,\n",
    "                            labels=[\"C\", \"S\", \"X\", \"Other\"])\n",
    "\n",
    "disp = ConfusionMatrixDisplay(confusion_matrix=conf_mat,\n",
    "                              display_labels=[\"C\", \"S\", \"X\", \"Other\"])\n",
    "disp.plot()\n",
    "plt.show()"
   ]
  },
  {
   "cell_type": "code",
   "execution_count": 18,
   "id": "5686e26e",
   "metadata": {},
   "outputs": [
    {
     "name": "stdout",
     "output_type": "stream",
     "text": [
      "F1 Score: 0.931\n"
     ]
    }
   ],
   "source": [
    "# A combined score\n",
    "f1_score = round(sklearn.metrics.f1_score(asteroid_classes_test, asteroid_classes_test_pred, average=\"weighted\"), 3)\n",
    "print(f\"F1 Score: {f1_score}\")"
   ]
  }
 ],
 "metadata": {
  "kernelspec": {
   "display_name": "Python 3 (ipykernel)",
   "language": "python",
   "name": "python3"
  },
  "language_info": {
   "codemirror_mode": {
    "name": "ipython",
    "version": 3
   },
   "file_extension": ".py",
   "mimetype": "text/x-python",
   "name": "python",
   "nbconvert_exporter": "python",
   "pygments_lexer": "ipython3",
   "version": "3.9.7"
  }
 },
 "nbformat": 4,
 "nbformat_minor": 5
}
