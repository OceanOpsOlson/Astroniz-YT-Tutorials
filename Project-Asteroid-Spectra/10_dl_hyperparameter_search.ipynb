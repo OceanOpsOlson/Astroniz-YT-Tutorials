{
 "cells": [
  {
   "cell_type": "markdown",
   "id": "ad3452c5",
   "metadata": {},
   "source": [
    "[![Open In Colab](https://colab.research.google.com/assets/colab-badge.svg)](https://colab.research.google.com/github/ThomasAlbin/Astroniz-YT-Tutorials/blob/main/[ML1]-Asteroid-Spectra/10_dl_hyperparameter_search.ipynb)"
   ]
  },
  {
   "cell_type": "markdown",
   "id": "f14c9d7a",
   "metadata": {},
   "source": [
    "# Step 10: Deep Learning - Hyperparameter Optimization\n",
    "\n",
    "Finally, we'll use Keras Tuner to optimize our classifier by a few percent more!"
   ]
  },
  {
   "cell_type": "code",
   "execution_count": 1,
   "id": "f7a1d9d4-b212-4070-8110-0c39c365f83f",
   "metadata": {},
   "outputs": [],
   "source": [
    "%load_ext tensorboard\n",
    "!pip install keras-tuner"
   ]
  },
  {
   "cell_type": "code",
   "execution_count": 2,
   "id": "63474560",
   "metadata": {},
   "outputs": [],
   "source": [
    "# Import standard libraries\n",
    "import os\n",
    "\n",
    "# Import installed libraries\n",
    "from matplotlib import pyplot as plt\n",
    "import numpy as np\n",
    "import pandas as pd\n",
    "\n",
    "import sklearn\n",
    "from sklearn import preprocessing\n",
    "from sklearn.metrics import ConfusionMatrixDisplay, confusion_matrix\n",
    "from sklearn.model_selection import StratifiedShuffleSplit\n",
    "\n",
    "import tensorflow.keras as keras"
   ]
  },
  {
   "cell_type": "code",
   "execution_count": 3,
   "id": "af9f8681",
   "metadata": {},
   "outputs": [],
   "source": [
    "# Let's mount the Google Drive, where we store files and models (if applicable, otherwise work\n",
    "# locally)\n",
    "try:\n",
    "    from google.colab import drive\n",
    "    drive.mount('/gdrive')\n",
    "    core_path = \"/gdrive/MyDrive/Colab/asteroid_taxonomy/\"\n",
    "except ModuleNotFoundError:\n",
    "    core_path = \"\"\n",
    "    \n",
    "# Load the level 2 asteroid data\n",
    "asteroids_df = pd.read_pickle(os.path.join(core_path, \"data/lvl2/\", \"asteroids.pkl\"))\n",
    "\n",
    "# Allocate the spectra to one array and the classes to another one\n",
    "asteroids_X = np.array([k[\"Reflectance_norm550nm\"].tolist() for k in asteroids_df[\"SpectrumDF\"]])\n",
    "asteroids_y = np.array(asteroids_df[\"Main_Group\"].to_list())\n",
    "\n",
    "asteroids_X = np.expand_dims(asteroids_X, axis=2)"
   ]
  },
  {
   "cell_type": "code",
   "execution_count": 4,
   "id": "66b5dfa2-89d5-4a0f-8e73-544f5fd60147",
   "metadata": {},
   "outputs": [
    {
     "name": "stdout",
     "output_type": "stream",
     "text": [
      "One-Hot-Vector [1, 0, 0, 0] corresponds to the Main Group: C\n",
      "One-Hot-Vector [0, 1, 0, 0] corresponds to the Main Group: Other\n",
      "One-Hot-Vector [0, 0, 1, 0] corresponds to the Main Group: S\n",
      "One-Hot-Vector [0, 0, 0, 1] corresponds to the Main Group: X\n"
     ]
    }
   ],
   "source": [
    "# We need to encode our string-based labels to either a sparse representation (class C becomes 0,\n",
    "# S becomes 1, etc.) or to One-Hot-Encoding (e.g., C becomes [1, 0, 0, 0], S becomes [0, 1, 0, 0]\n",
    "# and so on.\n",
    "\n",
    "# Please note: a better way to create models that can be used in production, encoding shall be\n",
    "# stored e.g., in a json file. Otherwise one needs to store the encoding class (otherwise the\n",
    "# encoding - decoding information is gone!!!)\n",
    "label_encoder = preprocessing.OneHotEncoder(sparse=True)\n",
    "asteroids_oh_y = label_encoder.fit_transform(asteroids_y.reshape(-1,1)).toarray()\n",
    "\n",
    "# OK how are things encoded?\n",
    "oh_init = [1, 0, 0, 0]\n",
    "for n in range(4):\n",
    "    oh_class = oh_init[-n:] + oh_init[:-n]\n",
    "    org_class = label_encoder.inverse_transform([oh_class])\n",
    "    print(f\"One-Hot-Vector {oh_class} corresponds to the Main Group: {org_class[0][0]}\")\n",
    "    \n",
    "# In this example we create a single test-training split with a ratio of 0.8 / 0.2\n",
    "sss = StratifiedShuffleSplit(n_splits=1, test_size=0.2)\n",
    "\n",
    "# Create a simple, single train / test split\n",
    "for train_index, test_index in sss.split(asteroids_X, asteroids_y):\n",
    "    \n",
    "    X_train, X_test = asteroids_X[train_index], asteroids_X[test_index]\n",
    "    y_train, y_test = asteroids_oh_y[train_index], asteroids_oh_y[test_index]"
   ]
  },
  {
   "cell_type": "markdown",
   "id": "e6b682a0-001d-43f3-9b1f-1b0c2c1aeebd",
   "metadata": {},
   "source": [
    "## Imbalanced Datasets\n",
    "\n",
    "... are a pain to work with. But it doesn't need to be, if you are aware of some pitfalls and useful metrics. Tensorflow provides a nice blog post [here](https://www.tensorflow.org/tutorials/structured_data/imbalanced_data)"
   ]
  },
  {
   "cell_type": "code",
   "execution_count": 5,
   "id": "6e5b4b9b-03a8-4b68-a99f-dcc4aaf41019",
   "metadata": {},
   "outputs": [],
   "source": [
    "# We need to create weights for our samples. Similar like the class weights, but here, our classes\n",
    "# are one-hot encoded. Sample weights are easier to handle!\n",
    "from sklearn.utils.class_weight import compute_sample_weight\n",
    "sample_weight = compute_sample_weight(\"balanced\", y=y_train)"
   ]
  },
  {
   "cell_type": "code",
   "execution_count": 6,
   "id": "1415a951-37c8-403b-bd22-46249d3d7c96",
   "metadata": {
    "tags": []
   },
   "outputs": [
    {
     "name": "stderr",
     "output_type": "stream",
     "text": [
      "2022-04-02 15:38:38.547056: I tensorflow/core/platform/cpu_feature_guard.cc:151] This TensorFlow binary is optimized with oneAPI Deep Neural Network Library (oneDNN) to use the following CPU instructions in performance-critical operations:  AVX2 FMA\n",
      "To enable them in other operations, rebuild TensorFlow with the appropriate compiler flags.\n"
     ]
    },
    {
     "name": "stdout",
     "output_type": "stream",
     "text": [
      "WARNING:tensorflow:Callback method `on_train_batch_end` is slow compared to the batch time (batch time: 0.0010s vs `on_train_batch_end` time: 0.0015s). Check your callbacks.\n",
      "WARNING:tensorflow:Callback method `on_train_batch_end` is slow compared to the batch time (batch time: 0.0012s vs `on_train_batch_end` time: 0.0014s). Check your callbacks.\n",
      "WARNING:tensorflow:Callback method `on_train_batch_end` is slow compared to the batch time (batch time: 0.0014s vs `on_train_batch_end` time: 0.0015s). Check your callbacks.\n",
      "WARNING:tensorflow:Callback method `on_train_batch_end` is slow compared to the batch time (batch time: 0.0014s vs `on_train_batch_end` time: 0.0017s). Check your callbacks.\n",
      "WARNING:tensorflow:Callback method `on_train_batch_end` is slow compared to the batch time (batch time: 0.0011s vs `on_train_batch_end` time: 0.0014s). Check your callbacks.\n",
      "INFO:tensorflow:Oracle triggered exit\n"
     ]
    }
   ],
   "source": [
    "import keras_tuner as kt\n",
    "\n",
    "# Early Stopping callback\n",
    "es_callback = keras.callbacks.EarlyStopping(monitor='val_loss', patience=10)\n",
    "\n",
    "# Get the number of inputs\n",
    "n_inputs = asteroids_X.shape[1]\n",
    "\n",
    "# We move our normalizer layers outside of the function\n",
    "normalizer = keras.layers.Normalization(axis=1)\n",
    "normalizer.adapt(X_train)\n",
    "\n",
    "def create_model(hp):\n",
    "    \n",
    "    # Create now a simple Dense based network\n",
    "    input_layer = keras.Input(shape=(n_inputs, 1))\n",
    "\n",
    "    norm_layer = normalizer(input_layer)\n",
    "\n",
    "    \n",
    "    hidden_layer = keras.layers.Conv1D(filters=hp.Int(\"1st_filters\",\n",
    "                                                      min_value=8,\n",
    "                                                      max_value=32,\n",
    "                                                      step=8),\n",
    "                                       activation=\"relu\",\n",
    "                                       kernel_size=hp.Int(\"1st_kernel_size\",\n",
    "                                                          min_value=3,\n",
    "                                                          max_value=7,\n",
    "                                                          step=1))(norm_layer)\n",
    "    hidden_layer = keras.layers.MaxPooling1D(pool_size=2)(hidden_layer)\n",
    "    \n",
    "    hidden_layer = keras.layers.Conv1D(filters=hp.Int(\"2nd_filters\",\n",
    "                                                      min_value=16,\n",
    "                                                      max_value=128,\n",
    "                                                      step=16),\n",
    "                                       activation=\"relu\",\n",
    "                                       kernel_size=hp.Int(\"2nd_kernel_size\",\n",
    "                                                          min_value=3,\n",
    "                                                          max_value=7,\n",
    "                                                          step=1))(norm_layer)\n",
    "    hidden_layer = keras.layers.MaxPooling1D(pool_size=2)(hidden_layer)\n",
    "    \n",
    "    hidden_layer = keras.layers.Flatten()(hidden_layer)\n",
    "    hidden_layer = keras.layers.Dense(hp.Int(\"units\", min_value=8, max_value=64, step=8),\n",
    "                                      activation=\"relu\")(hidden_layer)\n",
    "\n",
    "    if hp.Boolean(\"dropout\"):\n",
    "        hidden_layer = keras.layers.Dropout(hp.Float(\"dr_rate\",\n",
    "                                                     min_value=0.1,\n",
    "                                                     max_value=0.5,\n",
    "                                                     step=0.1))(hidden_layer)\n",
    "    \n",
    "    output_layer = keras.layers.Dense(4, activation=\"softmax\")(hidden_layer)\n",
    "\n",
    "    # Create now the model\n",
    "    model = keras.models.Model(inputs=input_layer, outputs=output_layer)\n",
    "    \n",
    "    # Compile the model. Since we have one-hot encoded classes we use the categorical crossentropy\n",
    "    model.compile(optimizer='adam', loss='categorical_crossentropy')\n",
    "    \n",
    "    return model\n",
    "\n",
    "# Let's create our tuner, optimizing a val_loss search. You can replace the Optimizer e.g.\n",
    "# with a Bayesion Search or Hyperband optimization\n",
    "tuner = kt.RandomSearch(create_model,\n",
    "                        objective='val_loss',\n",
    "                        max_trials=25)\n",
    "\n",
    "# Number of epochs and batch size\n",
    "end_epoch = 400\n",
    "batch_size = 64\n",
    "\n",
    "# Searching now for the best solution\n",
    "tuner.search(X_train,\n",
    "             y_train,\n",
    "             batch_size=batch_size,\n",
    "             verbose=0, \n",
    "             validation_split=0.25, epochs=end_epoch,\n",
    "             sample_weight=sample_weight,\n",
    "             callbacks=[es_callback, keras.callbacks.TensorBoard()])\n",
    "\n",
    "# Get the best model\n",
    "model = tuner.get_best_models()[0]"
   ]
  },
  {
   "cell_type": "code",
   "execution_count": 7,
   "id": "de277d5a-0d3e-4a93-becd-901f1e4a521e",
   "metadata": {},
   "outputs": [
    {
     "name": "stdout",
     "output_type": "stream",
     "text": [
      "Results summary\n",
      "Results in ./untitled_project\n",
      "Showing 10 best trials\n",
      "<keras_tuner.engine.objective.Objective object at 0x7faeaabec8b0>\n",
      "Trial summary\n",
      "Hyperparameters:\n",
      "1st_filters: 24\n",
      "1st_kernel_size: 6\n",
      "2nd_filters: 48\n",
      "2nd_kernel_size: 7\n",
      "units: 32\n",
      "dropout: True\n",
      "dr_rate: 0.4\n",
      "Score: 0.03862129524350166\n",
      "Trial summary\n",
      "Hyperparameters:\n",
      "1st_filters: 24\n",
      "1st_kernel_size: 4\n",
      "2nd_filters: 80\n",
      "2nd_kernel_size: 6\n",
      "units: 56\n",
      "dropout: True\n",
      "dr_rate: 0.2\n",
      "Score: 0.03890017047524452\n",
      "Trial summary\n",
      "Hyperparameters:\n",
      "1st_filters: 24\n",
      "1st_kernel_size: 4\n",
      "2nd_filters: 80\n",
      "2nd_kernel_size: 6\n",
      "units: 24\n",
      "dropout: True\n",
      "dr_rate: 0.30000000000000004\n",
      "Score: 0.041760142892599106\n",
      "Trial summary\n",
      "Hyperparameters:\n",
      "1st_filters: 16\n",
      "1st_kernel_size: 4\n",
      "2nd_filters: 80\n",
      "2nd_kernel_size: 4\n",
      "units: 64\n",
      "dropout: False\n",
      "dr_rate: 0.5\n",
      "Score: 0.04219847917556763\n",
      "Trial summary\n",
      "Hyperparameters:\n",
      "1st_filters: 16\n",
      "1st_kernel_size: 4\n",
      "2nd_filters: 80\n",
      "2nd_kernel_size: 5\n",
      "units: 40\n",
      "dropout: True\n",
      "dr_rate: 0.1\n",
      "Score: 0.04254813864827156\n",
      "Trial summary\n",
      "Hyperparameters:\n",
      "1st_filters: 24\n",
      "1st_kernel_size: 4\n",
      "2nd_filters: 112\n",
      "2nd_kernel_size: 7\n",
      "units: 40\n",
      "dropout: False\n",
      "dr_rate: 0.4\n",
      "Score: 0.04304501786828041\n",
      "Trial summary\n",
      "Hyperparameters:\n",
      "1st_filters: 32\n",
      "1st_kernel_size: 6\n",
      "2nd_filters: 48\n",
      "2nd_kernel_size: 3\n",
      "units: 40\n",
      "dropout: True\n",
      "dr_rate: 0.1\n",
      "Score: 0.0443931445479393\n",
      "Trial summary\n",
      "Hyperparameters:\n",
      "1st_filters: 8\n",
      "1st_kernel_size: 3\n",
      "2nd_filters: 64\n",
      "2nd_kernel_size: 7\n",
      "units: 24\n",
      "dropout: False\n",
      "dr_rate: 0.4\n",
      "Score: 0.044925570487976074\n",
      "Trial summary\n",
      "Hyperparameters:\n",
      "1st_filters: 24\n",
      "1st_kernel_size: 5\n",
      "2nd_filters: 32\n",
      "2nd_kernel_size: 6\n",
      "units: 40\n",
      "dropout: True\n",
      "dr_rate: 0.4\n",
      "Score: 0.045058395713567734\n",
      "Trial summary\n",
      "Hyperparameters:\n",
      "1st_filters: 24\n",
      "1st_kernel_size: 4\n",
      "2nd_filters: 80\n",
      "2nd_kernel_size: 7\n",
      "units: 56\n",
      "dropout: False\n",
      "dr_rate: 0.2\n",
      "Score: 0.046280741691589355\n"
     ]
    }
   ],
   "source": [
    "# You can also print all tuner results\n",
    "tuner.results_summary()"
   ]
  },
  {
   "cell_type": "code",
   "execution_count": 8,
   "id": "769c64cc-8de0-4ba7-9f60-ffb4ccd2c254",
   "metadata": {},
   "outputs": [
    {
     "name": "stdout",
     "output_type": "stream",
     "text": [
      "Model: \"model\"\n",
      "_________________________________________________________________\n",
      " Layer (type)                Output Shape              Param #   \n",
      "=================================================================\n",
      " input_1 (InputLayer)        [(None, 49, 1)]           0         \n",
      "                                                                 \n",
      " normalization (Normalizatio  (None, 49, 1)            99        \n",
      " n)                                                              \n",
      "                                                                 \n",
      " conv1d_1 (Conv1D)           (None, 43, 48)            384       \n",
      "                                                                 \n",
      " max_pooling1d_1 (MaxPooling  (None, 21, 48)           0         \n",
      " 1D)                                                             \n",
      "                                                                 \n",
      " flatten (Flatten)           (None, 1008)              0         \n",
      "                                                                 \n",
      " dense (Dense)               (None, 32)                32288     \n",
      "                                                                 \n",
      " dropout (Dropout)           (None, 32)                0         \n",
      "                                                                 \n",
      " dense_1 (Dense)             (None, 4)                 132       \n",
      "                                                                 \n",
      "=================================================================\n",
      "Total params: 32,903\n",
      "Trainable params: 32,804\n",
      "Non-trainable params: 99\n",
      "_________________________________________________________________\n"
     ]
    }
   ],
   "source": [
    "# Model summary\n",
    "model.summary()"
   ]
  },
  {
   "cell_type": "code",
   "execution_count": 9,
   "id": "f8778ff3-88f9-45ca-a483-86fb8abc33fa",
   "metadata": {},
   "outputs": [
    {
     "data": {
      "text/plain": [
       "'05'"
      ]
     },
     "execution_count": 9,
     "metadata": {},
     "output_type": "execute_result"
    }
   ],
   "source": [
    "# The best trial id. We'll use it to check the corresponding history in the ...\n",
    "tuner.oracle.get_best_trials()[0].trial_id"
   ]
  },
  {
   "cell_type": "code",
   "execution_count": 10,
   "id": "4761c428-7e21-4a4b-a30e-ba15cd09a02c",
   "metadata": {},
   "outputs": [
    {
     "data": {
      "text/html": [
       "\n",
       "      <iframe id=\"tensorboard-frame-cc3fbdadcc08fa14\" width=\"100%\" height=\"800\" frameborder=\"0\">\n",
       "      </iframe>\n",
       "      <script>\n",
       "        (function() {\n",
       "          const frame = document.getElementById(\"tensorboard-frame-cc3fbdadcc08fa14\");\n",
       "          const url = new URL(\"/\", window.location);\n",
       "          const port = 6006;\n",
       "          if (port) {\n",
       "            url.port = port;\n",
       "          }\n",
       "          frame.src = url;\n",
       "        })();\n",
       "      </script>\n",
       "    "
      ],
      "text/plain": [
       "<IPython.core.display.HTML object>"
      ]
     },
     "metadata": {},
     "output_type": "display_data"
    }
   ],
   "source": [
    "# ... tensorboard!\n",
    "%tensorboard --logdir logs"
   ]
  },
  {
   "cell_type": "code",
   "execution_count": 11,
   "id": "a42f47d4-7039-4579-9b82-e39d62691fcd",
   "metadata": {},
   "outputs": [
    {
     "data": {
      "image/png": "[encoded data removed]",
      "text/plain": [
       "<Figure size 432x288 with 2 Axes>"
      ]
     },
     "metadata": {
      "needs_background": "light"
     },
     "output_type": "display_data"
    },
    {
     "name": "stdout",
     "output_type": "stream",
     "text": [
      "F1 Score: 0.941\n"
     ]
    }
   ],
   "source": [
    "# Compute class probabilities\n",
    "y_test_prop_pred = model.predict(X_test)\n",
    "\n",
    "# Compute the corresponding one-hot classes\n",
    "y_test_oh_pred = np.zeros_like(y_test_prop_pred)\n",
    "y_test_oh_pred[np.arange(len(y_test_prop_pred)), y_test_prop_pred.argmax(1)] = 1\n",
    "\n",
    "# Re-transform the classes now!\n",
    "asteroid_classes_test = label_encoder.inverse_transform(y_test).reshape(1, -1)[0]\n",
    "asteroid_classes_test_pred = label_encoder.inverse_transform(y_test_oh_pred).reshape(1, -1)[0]\n",
    "\n",
    "# Compute the confusion matrix\n",
    "conf_mat = confusion_matrix(asteroid_classes_test,\n",
    "                            asteroid_classes_test_pred,\n",
    "                            labels=[\"C\", \"S\", \"X\", \"Other\"])\n",
    "\n",
    "disp = ConfusionMatrixDisplay(confusion_matrix=conf_mat,\n",
    "                              display_labels=[\"C\", \"S\", \"X\", \"Other\"])\n",
    "disp.plot()\n",
    "plt.show()\n",
    "\n",
    "# A combined score\n",
    "f1_score = round(sklearn.metrics.f1_score(asteroid_classes_test,\n",
    "                                          asteroid_classes_test_pred,\n",
    "                                          average=\"weighted\"), 3)\n",
    "print(f\"F1 Score: {f1_score}\")"
   ]
  }
 ],
 "metadata": {
  "kernelspec": {
   "display_name": "Python 3 (ipykernel)",
   "language": "python",
   "name": "python3"
  },
  "language_info": {
   "codemirror_mode": {
    "name": "ipython",
    "version": 3
   },
   "file_extension": ".py",
   "mimetype": "text/x-python",
   "name": "python",
   "nbconvert_exporter": "python",
   "pygments_lexer": "ipython3",
   "version": "3.9.7"
  }
 },
 "nbformat": 4,
 "nbformat_minor": 5
}
