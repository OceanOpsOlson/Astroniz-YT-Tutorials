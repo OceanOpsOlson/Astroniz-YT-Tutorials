{
 "cells": [
  {
   "cell_type": "markdown",
   "id": "2c2ba193-4a5b-4b4f-956c-8935d0afe17b",
   "metadata": {},
   "source": [
    "# Progress \"Report\"\n",
    "\n",
    "This notebook is just a script that is \"thrown\" between two tutorials. Here, we compute a dataframe for notebook 13_2. The scope: to enrich our NEO population model by Granvik et al. and compute the corresponding apparent magnitude and angular distance between the NEOs and the Sun as seen from Earth."
   ]
  },
  {
   "cell_type": "code",
   "execution_count": 1,
   "id": "a5abbe13-05bb-481b-b81c-69f6799326ed",
   "metadata": {},
   "outputs": [],
   "source": [
    "# Standard libraries\n",
    "import datetime\n",
    "import math\n",
    "import pathlib\n",
    "import re\n",
    "import requests\n",
    "import sqlite3\n",
    "import sys\n",
    "\n",
    "# Installed libraries\n",
    "from matplotlib import pyplot as plt\n",
    "import numpy as np\n",
    "import pandas as pd\n",
    "import sklearn\n",
    "import spiceypy\n",
    "import tqdm\n",
    "\n",
    "# Append to root directory of this repository\n",
    "sys.path.append(\"../\")\n",
    "\n",
    "# Auxiliary module that contains the apparent magnitude\n",
    "from auxiliary import photometry"
   ]
  },
  {
   "cell_type": "code",
   "execution_count": 2,
   "id": "b9b1e757-0843-4885-8d39-c5c969629d19",
   "metadata": {},
   "outputs": [],
   "source": [
    "# Load SPICE kernels\n",
    "spiceypy.furnsh(\"../kernels/spk/de432s.bsp\")\n",
    "spiceypy.furnsh(\"../kernels/lsk/naif0012.tls\")\n",
    "spiceypy.furnsh(\"../kernels/pck/gm_de431.tpc\")\n",
    "\n",
    "# Get the G*M value of the Sun\n",
    "_, gm_sun_pre = spiceypy.bodvcd(bodyid=10, item='GM', maxn=1)\n",
    "gm_sun = gm_sun_pre[0]"
   ]
  },
  {
   "cell_type": "code",
   "execution_count": 3,
   "id": "47a0d477-a86c-4612-bbed-a8b5bdc08053",
   "metadata": {},
   "outputs": [],
   "source": [
    "# Load the Granvik model\n",
    "data_dir = pathlib.Path(\"results_data/Granvik\")\n",
    "data_dir.mkdir(parents=True, exist_ok=True)\n",
    "dataframe_filepath = data_dir / \"enriched_granvik_model.parquet\"\n",
    "\n",
    "granvik_model_df = pd.read_parquet(dataframe_filepath)"
   ]
  },
  {
   "cell_type": "markdown",
   "id": "9e85047e-68b0-443c-8084-8cd3a692453d",
   "metadata": {},
   "source": [
    "# Compute the Apparent Magnitude\n",
    "\n",
    "In this section we add some more parameters that we need to compute, like the app. mag. or the angular distance between the NEO and the Sun as seen from our home planet."
   ]
  },
  {
   "cell_type": "code",
   "execution_count": 4,
   "id": "3205e9f4-dc76-4bf0-93b2-53b250924798",
   "metadata": {},
   "outputs": [],
   "source": [
    "# Get the Epoch in ET to compute the state vectors of ...\n",
    "init_et = granvik_model_df.iloc[0][\"epoch_et\"]\n",
    "\n",
    "# ... the Earth as seen from the Sun\n",
    "sun2earth_position_vec = spiceypy.spkgps(targ=399,\n",
    "                                         et=init_et,\n",
    "                                         ref=\"ECLIPJ2000\",\n",
    "                                         obs=10)[0]\n",
    "\n",
    "# Invert the Sun -> Earth vector to get the Earth -> Sun vector\n",
    "earth2sun_position_vec = -1.0 * sun2earth_position_vec"
   ]
  },
  {
   "cell_type": "code",
   "execution_count": 5,
   "id": "a245633b-6076-432b-9e30-5a7796e70d4b",
   "metadata": {},
   "outputs": [
    {
     "name": "stderr",
     "output_type": "stream",
     "text": [
      "100%|██████████████████████████████| 4812000/4812000 [02:18<00:00, 34866.31it/s]\n"
     ]
    }
   ],
   "source": [
    "# TQDM has a nice Pandas implementation that allows us to display the progress of \"apply\" functions\n",
    "tqdm.tqdm.pandas()\n",
    "\n",
    "# Compute the position vector of each NEO as seen from the Sun\n",
    "granvik_model_df.loc[:, \"sun2neo_position_vec\"] = \\\n",
    "    granvik_model_df.progress_apply(lambda x: spiceypy.conics(elts=[x[\"Perihelion_km\"],\n",
    "                                                                    x[\"Ecc_\"],\n",
    "                                                                    x[\"Incl_rad\"],\n",
    "                                                                    x[\"LongAscNode_rad\"],\n",
    "                                                                    x[\"ArgP_rad\"],\n",
    "                                                                    x[\"MeanAnom_rad\"],\n",
    "                                                                    x[\"epoch_et\"],\n",
    "                                                                    gm_sun],\n",
    "                                                              et=init_et)[:3],\n",
    "                                    axis=1)"
   ]
  },
  {
   "cell_type": "code",
   "execution_count": 6,
   "id": "8479107a-7155-4008-b436-4b75766eeb65",
   "metadata": {},
   "outputs": [
    {
     "name": "stderr",
     "output_type": "stream",
     "text": [
      "100%|█████████████████████████████| 4812000/4812000 [00:05<00:00, 811161.23it/s]\n",
      "100%|█████████████████████████████| 4812000/4812000 [00:08<00:00, 598214.23it/s]\n",
      "100%|██████████████████████████████| 4812000/4812000 [01:03<00:00, 75711.07it/s]\n",
      "100%|██████████████████████████████| 4812000/4812000 [01:04<00:00, 74100.50it/s]\n"
     ]
    }
   ],
   "source": [
    "# To compute the apparent magnitude we need to re-compute the positional vectors and convert it to\n",
    "# AU\n",
    "granvik_model_df.loc[:, \"neo2earth_position_vec\"] = \\\n",
    "    granvik_model_df[\"sun2neo_position_vec\"].progress_apply(lambda x: sun2earth_position_vec - x)\n",
    "granvik_model_df.loc[:, \"neo2sun_position_vec\"] = \\\n",
    "    granvik_model_df[\"sun2neo_position_vec\"].progress_apply(lambda x: -1.0 * x)\n",
    "\n",
    "granvik_model_df.loc[:, \"neo2earth_position_vec_AU\"] = \\\n",
    "    granvik_model_df[\"neo2earth_position_vec\"].progress_apply(lambda x: [spiceypy.convrt(k, \"km\", \"AU\") for k in x])\n",
    "granvik_model_df.loc[:, \"neo2sun_position_vec_AU\"] = \\\n",
    "    granvik_model_df[\"neo2sun_position_vec\"].progress_apply(lambda x: [spiceypy.convrt(k, \"km\", \"AU\") for k in x])"
   ]
  },
  {
   "cell_type": "code",
   "execution_count": 7,
   "id": "ff96cefc-89c7-4ce0-8cc5-d25a77c1ac6c",
   "metadata": {},
   "outputs": [
    {
     "name": "stderr",
     "output_type": "stream",
     "text": [
      "100%|██████████████████████████████| 4812000/4812000 [02:23<00:00, 33534.76it/s]\n"
     ]
    }
   ],
   "source": [
    "# Compute the apparent magnitude of each NEO (for the set epoch)\n",
    "granvik_model_df.loc[:, \"app_mag\"] = \\\n",
    "    granvik_model_df.progress_apply(lambda x:\n",
    "                                    photometry.hg_app_mag(abs_mag=x[\"H\"],\n",
    "                                                          vec_obj2obs=x[\"neo2earth_position_vec_AU\"],\n",
    "                                                          vec_obj2ill=x[\"neo2sun_position_vec_AU\"],\n",
    "                                                          slope_g=0.15),\n",
    "                                    axis=1)"
   ]
  },
  {
   "cell_type": "code",
   "execution_count": 8,
   "id": "3d6712a7-76a9-4f05-ad1d-4c57badf902d",
   "metadata": {},
   "outputs": [
    {
     "name": "stderr",
     "output_type": "stream",
     "text": [
      "100%|█████████████████████████████| 4812000/4812000 [00:12<00:00, 381983.98it/s]\n",
      "100%|██████████████████████████████| 4812000/4812000 [00:49<00:00, 97015.09it/s]\n",
      "100%|████████████████████████████| 4812000/4812000 [00:03<00:00, 1335640.52it/s]\n",
      "100%|████████████████████████████| 4812000/4812000 [00:03<00:00, 1364295.05it/s]\n",
      "100%|████████████████████████████| 4812000/4812000 [00:03<00:00, 1377149.04it/s]\n"
     ]
    }
   ],
   "source": [
    "# We compute now the NEO's coordiantes in a similar way using the dataframe and the apply function.\n",
    "granvik_model_df.loc[:, \"earth2neo_position_vec_AU\"] = \\\n",
    "    granvik_model_df[\"neo2earth_position_vec_AU\"].progress_apply(lambda x: -1.0 * np.array(x))\n",
    "\n",
    "granvik_model_df.loc[:, \"earth2neo_recrad\"] = \\\n",
    "    granvik_model_df[\"earth2neo_position_vec_AU\"].progress_apply(lambda x: spiceypy.recrad(x))\n",
    "\n",
    "granvik_model_df.loc[:, \"earth2neo_dist_AU\"] = \\\n",
    "    granvik_model_df[\"earth2neo_recrad\"].progress_apply(lambda x: x[0])\n",
    "\n",
    "granvik_model_df.loc[:, \"earth2neo_eclip_long\"] = \\\n",
    "    granvik_model_df[\"earth2neo_recrad\"].progress_apply(lambda x: x[1])\n",
    "\n",
    "granvik_model_df.loc[:, \"earth2neo_eclip_lat\"] = \\\n",
    "    granvik_model_df[\"earth2neo_recrad\"].progress_apply(lambda x: x[2])"
   ]
  },
  {
   "cell_type": "code",
   "execution_count": 9,
   "id": "100ac030-2fab-4768-8ee2-cee6bd25a64f",
   "metadata": {},
   "outputs": [
    {
     "name": "stderr",
     "output_type": "stream",
     "text": [
      "100%|██████████████████████████████| 4812000/4812000 [01:17<00:00, 61800.34it/s]\n"
     ]
    }
   ],
   "source": [
    "# Add now the angular distance between the NEO and the Sun as seen from Earth\n",
    "granvik_model_df.loc[:, \"ang_dist_neo2sun_deg\"] = \\\n",
    "    granvik_model_df[\"earth2neo_position_vec_AU\"] \\\n",
    "        .progress_apply(lambda x: np.degrees(spiceypy.vsep(x, earth2sun_position_vec)))"
   ]
  },
  {
   "cell_type": "code",
   "execution_count": 10,
   "id": "87d9cee3-5707-4165-ad11-d96d20198d90",
   "metadata": {},
   "outputs": [],
   "source": [
    "# Clean-Up\n",
    "granvik_model_df.drop(columns=[\"neo2earth_position_vec\",\n",
    "                               \"neo2sun_position_vec\",\n",
    "                               \"neo2earth_position_vec_AU\",\n",
    "                               \"neo2sun_position_vec_AU\",\n",
    "                               \"earth2neo_position_vec_AU\",\n",
    "                               \"earth2neo_recrad\"],\n",
    "                      inplace=True)"
   ]
  },
  {
   "cell_type": "code",
   "execution_count": null,
   "id": "0d624286-0a69-4a5b-a0f2-8d37bf4bfb91",
   "metadata": {},
   "outputs": [],
   "source": [
    "# Store the final dataframe as a parquet file\n",
    "dataframe_filepath = data_dir / \"enriched_granvik_model_w_appmag.parquet\"\n",
    "\n",
    "granvik_model_df.to_parquet(dataframe_filepath)"
   ]
  }
 ],
 "metadata": {
  "kernelspec": {
   "display_name": "Python 3 (ipykernel)",
   "language": "python",
   "name": "python3"
  },
  "language_info": {
   "codemirror_mode": {
    "name": "ipython",
    "version": 3
   },
   "file_extension": ".py",
   "mimetype": "text/x-python",
   "name": "python",
   "nbconvert_exporter": "python",
   "pygments_lexer": "ipython3",
   "version": "3.9.7"
  }
 },
 "nbformat": 4,
 "nbformat_minor": 5
}
