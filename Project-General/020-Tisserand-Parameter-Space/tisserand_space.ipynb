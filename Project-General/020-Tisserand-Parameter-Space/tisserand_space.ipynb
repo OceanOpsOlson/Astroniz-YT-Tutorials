{
 "cells": [
  {
   "cell_type": "code",
   "execution_count": 1,
   "metadata": {},
   "outputs": [],
   "source": [
    "# Import the standard modules\n",
    "import pathlib\n",
    "\n",
    "# Import spiceypy\n",
    "import spiceypy\n",
    "\n",
    "# Load necessary SPICE kernels\n",
    "spiceypy.furnsh('kernel_meta.txt')\n",
    "\n",
    "# Import the installed modules\n",
    "import numpy as np\n",
    "\n",
    "# Import matplotlib for plotting\n",
    "from matplotlib import pyplot as plt"
   ]
  },
  {
   "cell_type": "code",
   "execution_count": 2,
   "metadata": {},
   "outputs": [],
   "source": [
    "# Create sample Ephemeris Time (ET)\n",
    "sample_et = spiceypy.utc2et('2000-001T00:00:00')\n",
    "\n",
    "# Compute the state vector of Jupiter's barycentre at the defined ET as seen\n",
    "# from the Sun\n",
    "state_vec_jupiter, _ = spiceypy.spkgeo(targ=5, \\\n",
    "                                       et=sample_et, \\\n",
    "                                       ref='ECLIPJ2000', \\\n",
    "                                       obs=10)\n",
    "\n",
    "# Get the G*M value of the Sun\n",
    "_, gm_sun = spiceypy.bodvcd(bodyid=10, item='GM', maxn=1)\n",
    "gm_sun = gm_sun[0]\n",
    "\n",
    "# Compute the orbital elements of Jupiter ...\n",
    "orb_elem_jupiter = spiceypy.oscltx(state_vec_jupiter, sample_et, gm_sun)\n",
    "\n",
    "# ... extract the semi-major axis and convert it from km to AU\n",
    "a_jupiter_km = orb_elem_jupiter[-2]\n",
    "a_jupiter_au = spiceypy.convrt(a_jupiter_km, 'km', 'AU')"
   ]
  },
  {
   "cell_type": "code",
   "execution_count": 3,
   "metadata": {},
   "outputs": [],
   "source": [
    "# Set the inclination range (however, only from 0 to 90 degrees) and convert\n",
    "# the degrees values to radians\n",
    "incl_range_deg = np.linspace(0, 90, 100)\n",
    "incl_range_rad = np.radians(incl_range_deg)\n",
    "\n",
    "# Set an array for the eccentricity\n",
    "e_range = np.linspace(0, 1, 100)\n",
    "\n",
    "# Tisserand parameter w.r.t. to Jupiter as a lambda function (a is the\n",
    "# semi-major axis, i is the inclination and e is the eccentricty of the\n",
    "# object)\n",
    "tisserand_jup = lambda a, i, e: (a_jupiter_au / a) \\\n",
    "                                + 2 * np.cos(i) \\\n",
    "                                * np.sqrt((a / a_jupiter_au) * (1 - (e**2.0)))\n",
    "\n",
    "# Create a mesh grid for the 2 D colour contour plot\n",
    "e_mesh, incl_rad_mesh = np.meshgrid(e_range, incl_range_rad)"
   ]
  },
  {
   "cell_type": "code",
   "execution_count": 4,
   "metadata": {},
   "outputs": [],
   "source": [
    "# Import the matplotlib colormap\n",
    "from matplotlib import cm\n",
    "\n",
    "# Let's set a dark background\n",
    "plt.style.use('dark_background')\n",
    "\n",
    "# Set a default font size for better readability\n",
    "plt.rcParams.update({'font.size': 14})\n",
    "\n",
    "# Set an array for the semi-major axis (for each semi-major axis an individual\n",
    "# contour plot will be created). Let's set a step-size of 0.1 AU\n",
    "delta_a = 0.1\n",
    "a_array = np.arange(1.0, 8.0 + delta_a, delta_a)"
   ]
  },
  {
   "cell_type": "code",
   "execution_count": 5,
   "metadata": {},
   "outputs": [
    {
     "name": "stderr",
     "output_type": "stream",
     "text": [
      "100%|███████████████████████████████████████████████████████████████| 71/71 [00:20<00:00,  3.44it/s]\n"
     ]
    },
    {
     "data": {
      "image/png": "[encoded data removed]",
      "text/plain": [
       "<Figure size 864x576 with 2 Axes>"
      ]
     },
     "metadata": {
      "needs_background": "dark"
     },
     "output_type": "display_data"
    }
   ],
   "source": [
    "# Create a temporary folder to store all figures\n",
    "pathlib.Path('temp/').mkdir(parents=True, exist_ok=True)\n",
    "\n",
    "# Import tqdm for a proper progress visualisation\n",
    "from tqdm import tqdm\n",
    "\n",
    "# Set a figure size\n",
    "fig, _ = plt.subplots(figsize=(12, 8))\n",
    "\n",
    "# Iterate through the semi-major axis array, create and save the resulting\n",
    "# contour plots\n",
    "for a_for in tqdm(range(len(a_array))):\n",
    "\n",
    "    # Clear the plot for each re-draw\n",
    "    plt.clf()\n",
    "\n",
    "    # Set the x and y axis limits (eccentricity and inclination)\n",
    "    plt.xlim(0, 1)\n",
    "    plt.ylim(0, 90)\n",
    "\n",
    "    # Compute the Tisserand parameter\n",
    "    tiss_jup_mesh = tisserand_jup(a_array[a_for], incl_rad_mesh, e_mesh)\n",
    "\n",
    "    # Display relevant information\n",
    "    plt.title(f'Semi-major axis in AU: {round(a_array[a_for], 2)}')\n",
    "    plt.xlabel('Eccentricity')\n",
    "    plt.ylabel('Inclination in degrees')\n",
    "\n",
    "    # Create a contour plot\n",
    "    contr_plt = plt.contourf(e_mesh, np.degrees(incl_rad_mesh), \\\n",
    "                             tiss_jup_mesh, vmin=2, vmax=3, cmap=cm.CMRmap, \\\n",
    "                             extend='both', levels=np.linspace(2, 3, 11))\n",
    "\n",
    "    # Add a colorbar that is also used in the following\n",
    "    colbar = fig.colorbar(contr_plt)\n",
    "    colbar.ax.set_ylabel('Tisserand Parameter')\n",
    "\n",
    "    # Save the figure. Note: 100 DPI have been chosen, since the GIF that\n",
    "    # shall be created in a moment cannot exceed 25 MB for the Medium article\n",
    "    plt.savefig(f'temp/{str(a_for+1).zfill(3)}.png', dpi=100)"
   ]
  },
  {
   "cell_type": "code",
   "execution_count": 6,
   "metadata": {},
   "outputs": [],
   "source": [
    "# In this part all figures are merged into one animation (GIF)\n",
    "\n",
    "# Import glob to get the paths to all figures in the temporary folder\n",
    "import glob\n",
    "file_names = glob.glob('temp/*.png')\n",
    "\n",
    "# Our animation should be though-out. Let's create a GIF that starts with\n",
    "# a = 1, goes up to the last image ... waits for short period of time and then\n",
    "# reverses back to a = 1. The result: A nice repeating \"back and forth\"\n",
    "# animation without any image \"glitches\" or \"jumps\"\n",
    "\n",
    "# Create a list that goes from a = 1 to a = 8 AU\n",
    "file_name_list = sorted(file_names)\n",
    "\n",
    "# Extend the list with 25 images of the last entry (a = 8 AU)\n",
    "file_name_list.extend([file_name_list[-1]] * 25)\n",
    "\n",
    "# \"Go back in time\" by extending the array with a reversed copy (a = 8 AU to\n",
    "# a = 1 AU)\n",
    "file_name_list.extend(sorted(file_names)[::-1])\n",
    "\n",
    "# Add again the initial frame (a = 1 AU) for a second break\n",
    "file_name_list.extend([file_name_list[-1]] * 25)"
   ]
  },
  {
   "cell_type": "code",
   "execution_count": 7,
   "metadata": {
    "tags": []
   },
   "outputs": [],
   "source": [
    "# Import imageio. This library supports us to create an animation\n",
    "import imageio\n",
    "\n",
    "# Set an empty list that will contain all images\n",
    "tisserand_images = []\n",
    "\n",
    "# Iterate through the list of image paths, read the image with the imageio\n",
    "# library and append the result to the list\n",
    "for figure_f in file_name_list:\n",
    "    tisserand_images.append(imageio.imread(figure_f))\n",
    "\n",
    "# Save the list of images as a GIF. The duration of a single image is given\n",
    "# in seconds\n",
    "imageio.mimsave('tisserand_animated_vis.gif', tisserand_images, duration=0.04)"
   ]
  }
 ],
 "metadata": {
  "kernelspec": {
   "display_name": "Python 3 (ipykernel)",
   "language": "python",
   "name": "python3"
  },
  "language_info": {
   "codemirror_mode": {
    "name": "ipython",
    "version": 3
   },
   "file_extension": ".py",
   "mimetype": "text/x-python",
   "name": "python",
   "nbconvert_exporter": "python",
   "pygments_lexer": "ipython3",
   "version": "3.9.7"
  }
 },
 "nbformat": 4,
 "nbformat_minor": 4
}
