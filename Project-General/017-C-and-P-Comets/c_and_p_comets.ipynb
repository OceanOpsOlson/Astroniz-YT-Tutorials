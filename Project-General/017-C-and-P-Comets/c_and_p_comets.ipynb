{
 "cells": [
  {
   "cell_type": "code",
   "execution_count": 1,
   "metadata": {},
   "outputs": [],
   "source": [
    "# Import the standard modules\n",
    "import sqlite3\n",
    "\n",
    "# Import the installed modules\n",
    "import pandas as pd\n",
    "import numpy as np\n",
    "\n",
    "# Import matplotlib for plotting\n",
    "from matplotlib import pyplot as plt"
   ]
  },
  {
   "cell_type": "code",
   "execution_count": 2,
   "metadata": {},
   "outputs": [],
   "source": [
    "# Connect to the comet database. This database has been created in tutorial\n",
    "# part 7, however, due to its small size the database is uploaded on GitHub\n",
    "con = sqlite3.connect('../../databases/comets/mpc_comets.db')\n"
   ]
  },
  {
   "cell_type": "code",
   "execution_count": 3,
   "metadata": {},
   "outputs": [
    {
     "name": "stdout",
     "output_type": "stream",
     "text": [
      "  ORBIT_TYPE  COUNT(ORBIT_TYPE)\n",
      "0          A                 18\n",
      "1          C                264\n",
      "2          I                  2\n",
      "3          P                705\n"
     ]
    }
   ],
   "source": [
    "# What kind of comet types are in the database? Let's check:\n",
    "type_stats_df = \\\n",
    "    pd.read_sql('SELECT ORBIT_TYPE, COUNT(ORBIT_TYPE) FROM comets_main GROUP BY ORBIT_TYPE', con)\n",
    "print(type_stats_df)"
   ]
  },
  {
   "cell_type": "code",
   "execution_count": 4,
   "metadata": {},
   "outputs": [
    {
     "data": {
      "text/html": [
       "<div>\n",
       "<style scoped>\n",
       "    .dataframe tbody tr th:only-of-type {\n",
       "        vertical-align: middle;\n",
       "    }\n",
       "\n",
       "    .dataframe tbody tr th {\n",
       "        vertical-align: top;\n",
       "    }\n",
       "\n",
       "    .dataframe thead th {\n",
       "        text-align: right;\n",
       "    }\n",
       "</style>\n",
       "<table border=\"1\" class=\"dataframe\">\n",
       "  <thead>\n",
       "    <tr style=\"text-align: right;\">\n",
       "      <th></th>\n",
       "      <th>NAME</th>\n",
       "      <th>ORBIT_TYPE</th>\n",
       "      <th>PERIHELION_AU</th>\n",
       "      <th>SEMI_MAJOR_AXIS_AU</th>\n",
       "      <th>APHELION_AU</th>\n",
       "      <th>ECCENTRICITY</th>\n",
       "      <th>INCLINATION_DEG</th>\n",
       "      <th>ARG_OF_PERIH_DEG</th>\n",
       "      <th>LONG_OF_ASC_NODE_DEG</th>\n",
       "      <th>MEAN_ANOMALY_DEG</th>\n",
       "      <th>EPOCH_UTC</th>\n",
       "      <th>EPOCH_ET</th>\n",
       "      <th>ABSOLUTE_MAGNITUDE</th>\n",
       "      <th>SLOPE_PARAMETER</th>\n",
       "    </tr>\n",
       "  </thead>\n",
       "  <tbody>\n",
       "    <tr>\n",
       "      <th>0</th>\n",
       "      <td>1I/`Oumuamua</td>\n",
       "      <td>I</td>\n",
       "      <td>0.255240</td>\n",
       "      <td>None</td>\n",
       "      <td>None</td>\n",
       "      <td>1.199252</td>\n",
       "      <td>122.6778</td>\n",
       "      <td>241.6845</td>\n",
       "      <td>24.5997</td>\n",
       "      <td>0.0</td>\n",
       "      <td>2017-9-9T11:43:35</td>\n",
       "      <td>5.582295e+08</td>\n",
       "      <td>23.0</td>\n",
       "      <td>2.0</td>\n",
       "    </tr>\n",
       "    <tr>\n",
       "      <th>1</th>\n",
       "      <td>2I/Borisov</td>\n",
       "      <td>I</td>\n",
       "      <td>2.006548</td>\n",
       "      <td>None</td>\n",
       "      <td>None</td>\n",
       "      <td>3.356633</td>\n",
       "      <td>44.0527</td>\n",
       "      <td>209.1251</td>\n",
       "      <td>308.1480</td>\n",
       "      <td>0.0</td>\n",
       "      <td>2019-12-8T13:18:54</td>\n",
       "      <td>6.290832e+08</td>\n",
       "      <td>11.0</td>\n",
       "      <td>4.0</td>\n",
       "    </tr>\n",
       "  </tbody>\n",
       "</table>\n",
       "</div>"
      ],
      "text/plain": [
       "           NAME ORBIT_TYPE  PERIHELION_AU SEMI_MAJOR_AXIS_AU APHELION_AU  \\\n",
       "0  1I/`Oumuamua          I       0.255240               None        None   \n",
       "1    2I/Borisov          I       2.006548               None        None   \n",
       "\n",
       "   ECCENTRICITY  INCLINATION_DEG  ARG_OF_PERIH_DEG  LONG_OF_ASC_NODE_DEG  \\\n",
       "0      1.199252         122.6778          241.6845               24.5997   \n",
       "1      3.356633          44.0527          209.1251              308.1480   \n",
       "\n",
       "   MEAN_ANOMALY_DEG           EPOCH_UTC      EPOCH_ET  ABSOLUTE_MAGNITUDE  \\\n",
       "0               0.0   2017-9-9T11:43:35  5.582295e+08                23.0   \n",
       "1               0.0  2019-12-8T13:18:54  6.290832e+08                11.0   \n",
       "\n",
       "   SLOPE_PARAMETER  \n",
       "0              2.0  \n",
       "1              4.0  "
      ]
     },
     "execution_count": 4,
     "metadata": {},
     "output_type": "execute_result"
    }
   ],
   "source": [
    "# We have C, P, A and I comets in there.\n",
    "#     C: Orbital Period >200 years\n",
    "#     P: Orbital Persio <200 years + 2 of more perihelion passage observations\n",
    "#     A: Actually an asteroid...\n",
    "#     I: ??? -> Let see:\n",
    "pd.read_sql('SELECT * FROM comets_main WHERE ORBIT_TYPE = \"I\"', con)"
   ]
  },
  {
   "cell_type": "code",
   "execution_count": 5,
   "metadata": {},
   "outputs": [],
   "source": [
    "# Create a pandas dataframe that contains the aphelion and inclination data\n",
    "# for P type ...\n",
    "p_type_df = pd.read_sql('SELECT APHELION_AU, INCLINATION_DEG ' \\\n",
    "                        'FROM comets_main WHERE ORBIT_TYPE=\"P\"', con)\n",
    "\n",
    "# ... and C type comets. For this type: include also the eccentricity\n",
    "c_type_df = pd.read_sql('SELECT APHELION_AU, INCLINATION_DEG, ECCENTRICITY ' \\\n",
    "                        'FROM comets_main WHERE ORBIT_TYPE=\"C\"', con)"
   ]
  },
  {
   "cell_type": "code",
   "execution_count": 6,
   "metadata": {},
   "outputs": [
    {
     "data": {
      "text/html": [
       "<div>\n",
       "<style scoped>\n",
       "    .dataframe tbody tr th:only-of-type {\n",
       "        vertical-align: middle;\n",
       "    }\n",
       "\n",
       "    .dataframe tbody tr th {\n",
       "        vertical-align: top;\n",
       "    }\n",
       "\n",
       "    .dataframe thead th {\n",
       "        text-align: right;\n",
       "    }\n",
       "</style>\n",
       "<table border=\"1\" class=\"dataframe\">\n",
       "  <thead>\n",
       "    <tr style=\"text-align: right;\">\n",
       "      <th></th>\n",
       "      <th>APHELION_AU</th>\n",
       "      <th>INCLINATION_DEG</th>\n",
       "    </tr>\n",
       "  </thead>\n",
       "  <tbody>\n",
       "    <tr>\n",
       "      <th>count</th>\n",
       "      <td>705.000000</td>\n",
       "      <td>705.000000</td>\n",
       "    </tr>\n",
       "    <tr>\n",
       "      <th>mean</th>\n",
       "      <td>7.761516</td>\n",
       "      <td>16.471216</td>\n",
       "    </tr>\n",
       "    <tr>\n",
       "      <th>std</th>\n",
       "      <td>6.260367</td>\n",
       "      <td>20.039668</td>\n",
       "    </tr>\n",
       "    <tr>\n",
       "      <th>min</th>\n",
       "      <td>2.442348</td>\n",
       "      <td>0.231300</td>\n",
       "    </tr>\n",
       "    <tr>\n",
       "      <th>25%</th>\n",
       "      <td>5.167650</td>\n",
       "      <td>7.426400</td>\n",
       "    </tr>\n",
       "    <tr>\n",
       "      <th>50%</th>\n",
       "      <td>5.932673</td>\n",
       "      <td>11.618900</td>\n",
       "    </tr>\n",
       "    <tr>\n",
       "      <th>75%</th>\n",
       "      <td>9.069564</td>\n",
       "      <td>19.054400</td>\n",
       "    </tr>\n",
       "    <tr>\n",
       "      <th>max</th>\n",
       "      <td>100.186123</td>\n",
       "      <td>172.544100</td>\n",
       "    </tr>\n",
       "  </tbody>\n",
       "</table>\n",
       "</div>"
      ],
      "text/plain": [
       "       APHELION_AU  INCLINATION_DEG\n",
       "count   705.000000       705.000000\n",
       "mean      7.761516        16.471216\n",
       "std       6.260367        20.039668\n",
       "min       2.442348         0.231300\n",
       "25%       5.167650         7.426400\n",
       "50%       5.932673        11.618900\n",
       "75%       9.069564        19.054400\n",
       "max     100.186123       172.544100"
      ]
     },
     "execution_count": 6,
     "metadata": {},
     "output_type": "execute_result"
    }
   ],
   "source": [
    "# Print some descriptive statistics of the P type comets\n",
    "#print('Descriptive statistics of P comets')\n",
    "p_type_df.describe()"
   ]
  },
  {
   "cell_type": "code",
   "execution_count": 7,
   "metadata": {},
   "outputs": [
    {
     "data": {
      "text/html": [
       "<div>\n",
       "<style scoped>\n",
       "    .dataframe tbody tr th:only-of-type {\n",
       "        vertical-align: middle;\n",
       "    }\n",
       "\n",
       "    .dataframe tbody tr th {\n",
       "        vertical-align: top;\n",
       "    }\n",
       "\n",
       "    .dataframe thead th {\n",
       "        text-align: right;\n",
       "    }\n",
       "</style>\n",
       "<table border=\"1\" class=\"dataframe\">\n",
       "  <thead>\n",
       "    <tr style=\"text-align: right;\">\n",
       "      <th></th>\n",
       "      <th>APHELION_AU</th>\n",
       "      <th>INCLINATION_DEG</th>\n",
       "      <th>ECCENTRICITY</th>\n",
       "    </tr>\n",
       "  </thead>\n",
       "  <tbody>\n",
       "    <tr>\n",
       "      <th>count</th>\n",
       "      <td>182.000000</td>\n",
       "      <td>182.000000</td>\n",
       "      <td>182.000000</td>\n",
       "    </tr>\n",
       "    <tr>\n",
       "      <th>mean</th>\n",
       "      <td>8322.170027</td>\n",
       "      <td>82.902704</td>\n",
       "      <td>0.951420</td>\n",
       "    </tr>\n",
       "    <tr>\n",
       "      <th>std</th>\n",
       "      <td>35464.221761</td>\n",
       "      <td>46.881698</td>\n",
       "      <td>0.104301</td>\n",
       "    </tr>\n",
       "    <tr>\n",
       "      <th>min</th>\n",
       "      <td>14.542473</td>\n",
       "      <td>2.489600</td>\n",
       "      <td>0.186454</td>\n",
       "    </tr>\n",
       "    <tr>\n",
       "      <th>25%</th>\n",
       "      <td>89.373577</td>\n",
       "      <td>45.279175</td>\n",
       "      <td>0.955083</td>\n",
       "    </tr>\n",
       "    <tr>\n",
       "      <th>50%</th>\n",
       "      <td>513.632870</td>\n",
       "      <td>82.199500</td>\n",
       "      <td>0.991600</td>\n",
       "    </tr>\n",
       "    <tr>\n",
       "      <th>75%</th>\n",
       "      <td>2802.556682</td>\n",
       "      <td>122.084800</td>\n",
       "      <td>0.997837</td>\n",
       "    </tr>\n",
       "    <tr>\n",
       "      <th>max</th>\n",
       "      <td>316661.000674</td>\n",
       "      <td>174.583000</td>\n",
       "      <td>0.999968</td>\n",
       "    </tr>\n",
       "  </tbody>\n",
       "</table>\n",
       "</div>"
      ],
      "text/plain": [
       "         APHELION_AU  INCLINATION_DEG  ECCENTRICITY\n",
       "count     182.000000       182.000000    182.000000\n",
       "mean     8322.170027        82.902704      0.951420\n",
       "std     35464.221761        46.881698      0.104301\n",
       "min        14.542473         2.489600      0.186454\n",
       "25%        89.373577        45.279175      0.955083\n",
       "50%       513.632870        82.199500      0.991600\n",
       "75%      2802.556682       122.084800      0.997837\n",
       "max    316661.000674       174.583000      0.999968"
      ]
     },
     "execution_count": 7,
     "metadata": {},
     "output_type": "execute_result"
    }
   ],
   "source": [
    "# Print some descriptive statistics of the C type comets (differentiate\n",
    "# between bound (e<1) and un-bound (e>=1) comets)\n",
    "c_type_df.loc[c_type_df[\"ECCENTRICITY\"]<1].describe()"
   ]
  },
  {
   "cell_type": "code",
   "execution_count": 8,
   "metadata": {},
   "outputs": [
    {
     "name": "stdout",
     "output_type": "stream",
     "text": [
      "       APHELION_AU  INCLINATION_DEG  ECCENTRICITY\n",
      "count          0.0        82.000000     82.000000\n",
      "mean           NaN        93.599028      1.001689\n",
      "std            NaN        39.624323      0.001731\n",
      "min            NaN         5.501900      1.000000\n",
      "25%            NaN        63.282250      1.000465\n",
      "50%            NaN        96.658300      1.001263\n",
      "75%            NaN       128.871725      1.002405\n",
      "max            NaN       167.020700      1.011307\n"
     ]
    }
   ],
   "source": [
    "print(f'{c_type_df.loc[c_type_df[\"ECCENTRICITY\"]>=1].describe()}')"
   ]
  },
  {
   "cell_type": "code",
   "execution_count": 9,
   "metadata": {
    "tags": []
   },
   "outputs": [
    {
     "name": "stderr",
     "output_type": "stream",
     "text": [
      "/var/folders/gc/021rhjrn20v7m9sjnfk08_fc0000gp/T/ipykernel_37959/1615754775.py:44: MatplotlibDeprecationWarning: The legendHandles attribute was deprecated in Matplotlib 3.7 and will be removed two minor releases later. Use legend_handles instead.\n",
      "  for lh in leg.legendHandles:\n"
     ]
    },
    {
     "data": {
      "image/png": "[encoded data removed]",
      "text/plain": [
       "<Figure size 864x576 with 1 Axes>"
      ]
     },
     "metadata": {
      "needs_background": "dark"
     },
     "output_type": "display_data"
    }
   ],
   "source": [
    "# We plot the Inclination data vs. the aphelion data to determine differences\n",
    "# between P and C comets\n",
    "\n",
    "# Let's set a dark background\n",
    "plt.style.use('dark_background')\n",
    "\n",
    "# Set a default font size for better readability\n",
    "plt.rcParams.update({'font.size': 14})\n",
    "\n",
    "# Set a figure with a certain figure size\n",
    "fig, ax = plt.subplots(figsize=(12, 8))\n",
    "\n",
    "# Scatter plot of the P type comet inclination vs. the aphelion\n",
    "ax.scatter(p_type_df['APHELION_AU'], \\\n",
    "           p_type_df['INCLINATION_DEG'], \\\n",
    "           marker='.', color='tab:orange', alpha=0.1, label='P Type')\n",
    "\n",
    "# Scatter plot of the C type comet inclination vs. the aphelion (consider\n",
    "# only the bound orbits!)\n",
    "ax.scatter(c_type_df[c_type_df['ECCENTRICITY'] < 1]['APHELION_AU'], \\\n",
    "           c_type_df[c_type_df['ECCENTRICITY'] < 1]['INCLINATION_DEG'], \\\n",
    "           marker='^', color='tab:blue', alpha=0.5, label='C Type')\n",
    "\n",
    "# The aphelion data vary between a few AU and hundreds of AU. We convert the\n",
    "# x scale to a log10 scale\n",
    "ax.set_xscale('log')\n",
    "\n",
    "# Set a limit for the inclination; between 0 and 180 degrees\n",
    "ax.set_ylim(0, 180)\n",
    "\n",
    "# Set a grid for better readability\n",
    "ax.grid(axis='both', linestyle='dashed', alpha=0.2)\n",
    "\n",
    "# Set a title, and labels for the x and y axis\n",
    "ax.set_title('Comets with an eccentricity e<1')\n",
    "ax.set_xlabel('Aphelion in AU')\n",
    "ax.set_ylabel('Inclination in degrees')\n",
    "\n",
    "# Now we set a legend. However, the marker opacity in the legend has the\n",
    "# same value as in the plot. A value of 0.1 would be difficult to see ...\n",
    "leg = ax.legend(fancybox=True, loc='upper right', framealpha=1)\n",
    "\n",
    "# ... thus, we set the markers' opacity to 1 with this small code\n",
    "for lh in leg.legendHandles:\n",
    "    lh.set_alpha(1)\n",
    "\n",
    "# Save the plot in high quality\n",
    "plt.savefig('comets_scatter_plot_Q_i.png', dpi=300)"
   ]
  }
 ],
 "metadata": {
  "kernelspec": {
   "display_name": "Python 3 (ipykernel)",
   "language": "python",
   "name": "python3"
  },
  "language_info": {
   "codemirror_mode": {
    "name": "ipython",
    "version": 3
   },
   "file_extension": ".py",
   "mimetype": "text/x-python",
   "name": "python",
   "nbconvert_exporter": "python",
   "pygments_lexer": "ipython3",
   "version": "3.9.7"
  }
 },
 "nbformat": 4,
 "nbformat_minor": 4
}
