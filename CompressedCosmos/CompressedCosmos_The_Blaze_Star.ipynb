{
  "nbformat": 4,
  "nbformat_minor": 0,
  "metadata": {
    "colab": {
      "provenance": [],
      "authorship_tag": "ABX9TyMiyUYd/7b6JHPODmoUPUPv",
      "include_colab_link": true
    },
    "kernelspec": {
      "name": "python3",
      "display_name": "Python 3"
    },
    "language_info": {
      "name": "python"
    }
  },
  "cells": [
    {
      "cell_type": "markdown",
      "metadata": {
        "id": "view-in-github",
        "colab_type": "text"
      },
      "source": [
        "<a href=\"https://colab.research.google.com/github/ThomasAlbin/Astroniz-YT-Tutorials/blob/main/CompressedCosmos/CompressedCosmos_The_Blaze_Star.ipynb\" target=\"_parent\"><img src=\"https://colab.research.google.com/assets/colab-badge.svg\" alt=\"Open In Colab\"/></a>"
      ]
    },
    {
      "cell_type": "markdown",
      "source": [
        "# T Coronae Borealis\n",
        "\n",
        "T Coronae Borealis (T CrB), also known as *Blaze Star*, is a star that is mostly rather faint and not visible to the naked eye. However, currently (mid 2024) a potential Nova is emerging that will lead to an illumination increase. The Blaze Star will become visivle to the naked eye!\n",
        "\n",
        "But... where is the star? Well that's the purpose of this Python script!"
      ],
      "metadata": {
        "id": "2H2MKSGzNWtu"
      }
    },
    {
      "cell_type": "code",
      "execution_count": null,
      "metadata": {
        "id": "ym4-iwsGvz-5"
      },
      "outputs": [],
      "source": [
        "!pip install skyfield\n",
        "!pip install astroquery\n",
        "!pip install astropy"
      ]
    },
    {
      "cell_type": "code",
      "source": [
        "from astroquery.simbad import Simbad\n",
        "from astropy.coordinates import SkyCoord\n",
        "\n",
        "import skyfield\n",
        "import skyfield.api\n",
        "from skyfield.data import hipparcos\n",
        "from skyfield.data import stellarium\n",
        "from skyfield.projections import build_stereographic_projection\n",
        "from skyfield.data import hipparcos as skyfield_hipparcos\n",
        "\n",
        "from matplotlib.collections import LineCollection\n",
        "import matplotlib.pyplot as plt\n",
        "import numpy as np\n",
        "\n",
        "import re"
      ],
      "metadata": {
        "id": "5_QcPeWDMC0O"
      },
      "execution_count": null,
      "outputs": []
    },
    {
      "cell_type": "code",
      "source": [
        "# Define target star and constellation\n",
        "target_star = SkyCoord.from_name(\"T Coronae Borealis\")\n",
        "constellation = \"CrB\"  # Abbreviation for Corona Borealis"
      ],
      "metadata": {
        "id": "J7z2SnPw-bgj"
      },
      "execution_count": null,
      "outputs": []
    },
    {
      "cell_type": "code",
      "source": [
        "# Get star data\n",
        "with skyfield.api.load.open(skyfield_hipparcos.URL) as _obj:\n",
        "    stars_df = skyfield_hipparcos.load_dataframe(_obj)\n",
        "\n",
        "stars_df"
      ],
      "metadata": {
        "id": "w3v6wOhQ31q3"
      },
      "execution_count": null,
      "outputs": []
    },
    {
      "cell_type": "code",
      "source": [
        "# Set up Simbad query\n",
        "customSimbad = Simbad()\n",
        "customSimbad.add_votable_fields('ids')  # Request identifier information\n",
        "\n",
        "# Query for T Coronae Borealis\n",
        "result_table = customSimbad.query_object(\"T Coronae Borealis\")\n",
        "\n",
        "# Search for tcrb\n",
        "hipparcos_id = int(re.search(r\"HIP (\\d+)\", result_table[\"IDS\"][0]).group(1))\n",
        "print(f\"The Hipparcos ID of T Coronae Borealis is: {hipparcos_id}\")\n",
        "tcrb = stars_df[stars_df.index==hipparcos_id].copy()"
      ],
      "metadata": {
        "id": "I5Gdo_2_AC_C"
      },
      "execution_count": null,
      "outputs": []
    },
    {
      "cell_type": "code",
      "source": [
        "result_table[\"IDS\"]"
      ],
      "metadata": {
        "id": "tS_wuLLa39x_"
      },
      "execution_count": null,
      "outputs": []
    },
    {
      "cell_type": "code",
      "source": [
        "# Load Skyfield data\n",
        "load = skyfield.api.Loader('~/skyfield_data')\n",
        "ts = load.timescale()\n",
        "eph = load('de421.bsp')\n",
        "earth = eph['earth']\n",
        "\n",
        "# Load data\n",
        "ts = load.timescale()\n",
        "t = ts.now()  # Current time\n",
        "\n",
        "with load.open(hipparcos.URL) as f:\n",
        "    stars = hipparcos.load_dataframe(f)\n",
        "\n",
        "# Constellation outlines come from Stellarium\n",
        "url = ('https://raw.githubusercontent.com/Stellarium/stellarium/master'\n",
        "       '/skycultures/modern_st/constellationship.fab')\n",
        "\n",
        "with load.open(url) as f:\n",
        "    constellations = stellarium.parse_constellations(f)\n",
        "\n",
        "edges = [edge for name, edges in constellations for edge in edges]\n",
        "edges_star1 = [star1 for star1, star2 in edges]\n",
        "edges_star2 = [star2 for star1, star2 in edges]\n",
        "\n",
        "# Build projection centered at 0h RA, 0° DEC\n",
        "tcrb_star = skyfield.api.Star.from_dataframe(tcrb)\n",
        "tcrb_apparent = earth.at(t).observe(tcrb_star)\n",
        "projection = build_stereographic_projection(tcrb_apparent)  # Use the apparent position\n",
        "field_of_view_degrees = 45.0\n",
        "limiting_magnitude = 6.5\n",
        "\n",
        "# Compute star positions\n",
        "star_positions = earth.at(t).observe(skyfield.api.Star.from_dataframe(stars))\n",
        "stars['x'], stars['y'] = projection(star_positions)\n",
        "\n",
        "bright_stars = (stars.magnitude <= limiting_magnitude)\n",
        "magnitude = stars['magnitude'][bright_stars]\n",
        "marker_size = (0.5 + limiting_magnitude - magnitude) ** 2.0\n",
        "\n",
        "# The constellation lines will each begin at the x,y of one star and end\n",
        "# at the x,y of another.  We have to \"rollaxis\" the resulting coordinate\n",
        "# array into the shape that matplotlib expects.\n",
        "xy1 = stars[['x', 'y']].loc[edges_star1].values\n",
        "xy2 = stars[['x', 'y']].loc[edges_star2].values\n",
        "lines_xy = np.rollaxis(np.array([xy1, xy2]), 1)\n",
        "\n",
        "# Time to build the figure!\n",
        "plt.style.use(\"dark_background\")\n",
        "fig, ax = plt.subplots(figsize=[9, 9])\n",
        "\n",
        "# Draw the constellation lines.\n",
        "ax.add_collection(LineCollection(lines_xy, colors=\"tab:red\", alpha=.8))\n",
        "\n",
        "# Draw the stars.\n",
        "ax.scatter(stars['x'][bright_stars], stars['y'][bright_stars],\n",
        "           s=marker_size, color=\"tab:red\")\n",
        "\n",
        "# Add the Star, which is the center of the plot\n",
        "ax.scatter(0.0, 0.0, marker='+', s=50, c=\"white\")\n",
        "\n",
        "# Finally, title the plot and set some final parameters.\n",
        "angle = np.pi - field_of_view_degrees / 360.0 * np.pi\n",
        "limit = np.sin(angle) / (1.0 - np.cos(angle))\n",
        "\n",
        "ax.set_xlim(-limit, limit)\n",
        "ax.set_ylim(-limit, limit)\n",
        "ax.xaxis.set_visible(False)\n",
        "ax.yaxis.set_visible(False)\n",
        "ax.set_aspect(1.0)\n",
        "\n",
        "# Remove Frame\n",
        "ax.spines['top'].set_visible(False)\n",
        "ax.spines['right'].set_visible(False)\n",
        "ax.spines['bottom'].set_visible(False)\n",
        "ax.spines['left'].set_visible(False)"
      ],
      "metadata": {
        "id": "mHr0LDE4DLDq"
      },
      "execution_count": null,
      "outputs": []
    }
  ]
}