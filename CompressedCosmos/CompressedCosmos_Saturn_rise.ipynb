{
  "nbformat": 4,
  "nbformat_minor": 0,
  "metadata": {
    "colab": {
      "provenance": [],
      "authorship_tag": "ABX9TyNT7GrmWxuUvYdUfS35MB+W",
      "include_colab_link": true
    },
    "kernelspec": {
      "name": "python3",
      "display_name": "Python 3"
    },
    "language_info": {
      "name": "python"
    }
  },
  "cells": [
    {
      "cell_type": "markdown",
      "metadata": {
        "id": "view-in-github",
        "colab_type": "text"
      },
      "source": [
        "<a href=\"https://colab.research.google.com/github/ThomasAlbin/Astroniz-YT-Tutorials-HIDDEN/blob/main/CompressedCosmos_Saturn_rise.ipynb\" target=\"_parent\"><img src=\"https://colab.research.google.com/assets/colab-badge.svg\" alt=\"Open In Colab\"/></a>"
      ]
    },
    {
      "cell_type": "code",
      "execution_count": 1,
      "metadata": {
        "id": "LZqQo0ahOhRV",
        "outputId": "43862c80-143a-4bca-a2ec-79c88834ec19",
        "colab": {
          "base_uri": "https://localhost:8080/"
        }
      },
      "outputs": [
        {
          "output_type": "stream",
          "name": "stdout",
          "text": [
            "Requirement already satisfied: geopy in /usr/local/lib/python3.10/dist-packages (2.3.0)\n",
            "Requirement already satisfied: geographiclib<3,>=1.52 in /usr/local/lib/python3.10/dist-packages (from geopy) (2.0)\n",
            "Collecting ephem\n",
            "  Downloading ephem-4.1.5-cp310-cp310-manylinux_2_17_x86_64.manylinux2014_x86_64.whl (1.8 MB)\n",
            "\u001b[2K     \u001b[90m━━━━━━━━━━━━━━━━━━━━━━━━━━━━━━━━━━━━━━━━\u001b[0m \u001b[32m1.8/1.8 MB\u001b[0m \u001b[31m7.2 MB/s\u001b[0m eta \u001b[36m0:00:00\u001b[0m\n",
            "\u001b[?25hInstalling collected packages: ephem\n",
            "Successfully installed ephem-4.1.5\n",
            "Collecting timezonefinder\n",
            "  Downloading timezonefinder-6.5.2-cp310-cp310-manylinux_2_17_x86_64.manylinux_2_5_x86_64.manylinux1_x86_64.manylinux2014_x86_64.whl (49.4 MB)\n",
            "\u001b[2K     \u001b[90m━━━━━━━━━━━━━━━━━━━━━━━━━━━━━━━━━━━━━━━━\u001b[0m \u001b[32m49.4/49.4 MB\u001b[0m \u001b[31m12.1 MB/s\u001b[0m eta \u001b[36m0:00:00\u001b[0m\n",
            "\u001b[?25hRequirement already satisfied: cffi<2,>=1.15.1 in /usr/local/lib/python3.10/dist-packages (from timezonefinder) (1.16.0)\n",
            "Collecting h3<4,>=3.7.6 (from timezonefinder)\n",
            "  Downloading h3-3.7.7-cp310-cp310-manylinux_2_17_x86_64.manylinux2014_x86_64.whl (1.2 MB)\n",
            "\u001b[2K     \u001b[90m━━━━━━━━━━━━━━━━━━━━━━━━━━━━━━━━━━━━━━━━\u001b[0m \u001b[32m1.2/1.2 MB\u001b[0m \u001b[31m66.7 MB/s\u001b[0m eta \u001b[36m0:00:00\u001b[0m\n",
            "\u001b[?25hRequirement already satisfied: numpy<3,>=1.23 in /usr/local/lib/python3.10/dist-packages (from timezonefinder) (1.25.2)\n",
            "Requirement already satisfied: setuptools>=65.5 in /usr/local/lib/python3.10/dist-packages (from timezonefinder) (67.7.2)\n",
            "Requirement already satisfied: pycparser in /usr/local/lib/python3.10/dist-packages (from cffi<2,>=1.15.1->timezonefinder) (2.22)\n",
            "Installing collected packages: h3, timezonefinder\n",
            "Successfully installed h3-3.7.7 timezonefinder-6.5.2\n"
          ]
        }
      ],
      "source": [
        "!pip install geopy\n",
        "!pip install ephem\n",
        "!pip install timezonefinder"
      ]
    },
    {
      "cell_type": "code",
      "source": [
        "import datetime\n",
        "import math\n",
        "\n",
        "import ephem\n",
        "from geopy.geocoders import Nominatim\n",
        "from timezonefinder import TimezoneFinder\n",
        "from pytz import timezone\n",
        "\n",
        "def saturn_rise_time(location, obs_time=None):\n",
        "    \"\"\"Calculates the rising time of Saturn for a given location and time.\n",
        "\n",
        "    Args:\n",
        "        location (str or tuple): City name (str) or (latitude, longitude) tuple.\n",
        "        obs_time (datetime, optional): Observation time (defaults to current time).\n",
        "\n",
        "    Returns:\n",
        "        datetime: Saturn's rising time (local time).\n",
        "        None: If Saturn is not above the horizon during the specified time.\n",
        "    \"\"\"\n",
        "\n",
        "    # Determine observer location and timezone\n",
        "    if isinstance(location, str):\n",
        "        geolocator = Nominatim(user_agent=\"saturn_rise_calculator\")\n",
        "        location = geolocator.geocode(location)\n",
        "        if not location:\n",
        "            raise ValueError(f\"Invalid city name: '{location}'\")\n",
        "        observer = ephem.Observer()\n",
        "        observer.lat = str(location.latitude)\n",
        "        observer.lon = str(location.longitude)\n",
        "        print(f\"Corresponding long / lat values: {math.degrees(observer.lon)},\"\n",
        "                                               f\"{math.degrees(observer.lat)}\")\n",
        "    elif isinstance(location, tuple):\n",
        "        observer = ephem.Observer()\n",
        "        observer.lat, observer.lon = location\n",
        "    else:\n",
        "        raise ValueError(\"Invalid location format. Use city name or (latitude, longitude).\")\n",
        "\n",
        "    tf = TimezoneFinder(in_memory=True)  # For faster lookups\n",
        "    tz_name = tf.timezone_at(lng=location.longitude, lat=location.latitude)\n",
        "    obs_timezone = timezone(tz_name) if tz_name else timezone('UTC')\n",
        "\n",
        "    # Set observation time\n",
        "    if obs_time is None:\n",
        "        obs_time = datetime.datetime.now(obs_timezone)\n",
        "    observer.date = obs_time\n",
        "\n",
        "    # Calculate Saturn's rising time (more precise)\n",
        "    saturn = ephem.Saturn(obs_time)\n",
        "    try:\n",
        "        rising_time_utc = observer.next_rising(saturn, use_center=True)\n",
        "        rising_time_local = ephem.localtime(rising_time_utc).astimezone(obs_timezone)\n",
        "        return rising_time_local\n",
        "    except ephem.CircumpolarError:\n",
        "        return None  # Saturn is circumpolar\n",
        "\n",
        "# Get user input\n",
        "while True:\n",
        "    location_input = input(\"Enter city name or latitude,longitude: \")\n",
        "    try:\n",
        "        if \",\" in location_input:\n",
        "            lat, lon = map(float, location_input.split(\",\"))\n",
        "            location = (lat, lon)\n",
        "        else:\n",
        "            location = location_input\n",
        "        break\n",
        "    except ValueError:\n",
        "        print(\"Invalid input format. Use city name or latitude,longitude.\")\n",
        "\n",
        "# Calculate and display result\n",
        "rise_time = saturn_rise_time(location)\n",
        "if rise_time:\n",
        "    print(f\"Saturn rises at {rise_time.strftime('%Y-%m-%d %H:%M:%S')}\")\n",
        "else:\n",
        "    print(\"Saturn is not visible above the horizon during the specified time.\")"
      ],
      "metadata": {
        "colab": {
          "base_uri": "https://localhost:8080/"
        },
        "id": "7vGZox1dOoZo",
        "outputId": "06052807-4dfc-4b53-e09e-da9ffd392e6a"
      },
      "execution_count": 3,
      "outputs": [
        {
          "output_type": "stream",
          "name": "stdout",
          "text": [
            "Enter city name or latitude,longitude: New York City\n",
            "Corresponding long / lat values: -74.0060152,40.7127281\n",
            "Saturn rises at 2024-06-30 23:59:16\n"
          ]
        }
      ]
    }
  ]
}