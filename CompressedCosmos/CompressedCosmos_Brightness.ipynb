{
  "nbformat": 4,
  "nbformat_minor": 0,
  "metadata": {
    "colab": {
      "provenance": [],
      "authorship_tag": "ABX9TyO4le+lIyF6w5FtR70k6+fF",
      "include_colab_link": true
    },
    "kernelspec": {
      "name": "python3",
      "display_name": "Python 3"
    },
    "language_info": {
      "name": "python"
    }
  },
  "cells": [
    {
      "cell_type": "markdown",
      "metadata": {
        "id": "view-in-github",
        "colab_type": "text"
      },
      "source": [
        "<a href=\"https://colab.research.google.com/github/ThomasAlbin/Astroniz-YT-Tutorials-HIDDEN/blob/main/compressedcosmos_brightness.ipynb\" target=\"_parent\"><img src=\"https://colab.research.google.com/assets/colab-badge.svg\" alt=\"Open In Colab\"/></a>"
      ]
    },
    {
      "cell_type": "markdown",
      "source": [
        "# Brightness of a Star\n",
        "\n",
        "Today, we are going to convert this \"weird\" magnitude brightness measurement in astronomy to something more ... approchable like \"Watt per area\". And then we are going to convert this to an even more understandable experience. Let's go:"
      ],
      "metadata": {
        "id": "rBhjxf_-Dgg-"
      }
    },
    {
      "cell_type": "code",
      "execution_count": 1,
      "metadata": {
        "id": "JveECWmEmKDZ"
      },
      "outputs": [],
      "source": [
        "import math"
      ]
    },
    {
      "cell_type": "code",
      "source": [
        "# Computing something with magnitudes\n",
        "delta_brightness = lambda delta_mag: 10.0**(0.4*delta_mag)\n",
        "\n",
        "# T Coronae Borealis has currently a magnitude of +10 and it is expected that it will jump to +2\n",
        "# in the near future. Now... what does it mean? How much brighter is it? Factor of 8?\n",
        "#\n",
        "# Well... no: it is a nice logarithmic \"trap\", so let's see:\n",
        "tcrb_mag_normal = 10.0\n",
        "tcrb_mag_nova = 2.0\n",
        "\n",
        "tcrb_mag_delta = abs(tcrb_mag_normal - tcrb_mag_nova) # Overkill, but for the sake of demonstration\n",
        "\n",
        "tcrb_brightness_delta = delta_brightness(tcrb_mag_delta)\n",
        "\n",
        "print(f\"TCrB will be brighter by a factor of: ~{round(tcrb_brightness_delta)}\")"
      ],
      "metadata": {
        "colab": {
          "base_uri": "https://localhost:8080/"
        },
        "id": "tjg0LuyZGzqJ",
        "outputId": "9938242b-7c4d-4416-b5d3-6c52ec3c8042"
      },
      "execution_count": 2,
      "outputs": [
        {
          "output_type": "stream",
          "name": "stdout",
          "text": [
            "TCrB will be brighter by a factor of: ~1585\n"
          ]
        }
      ]
    },
    {
      "cell_type": "code",
      "source": [
        "# Zero point of the apparent bolometric magnitude given in W/m**2\n",
        "# https://www.iau.org/static/resolutions/IAU2015_English.pdf (page 2)\n",
        "appmag_irr_i0 = 2.518021002e-8\n",
        "\n",
        "# Computing the irradiance in W/m**2\n",
        "# Source: https://www.iau.org/static/resolutions/IAU2015_English.pdf\n",
        "irradiance = lambda app_mag: 10.0 ** (-0.4 * app_mag + math.log10(appmag_irr_i0))\n",
        "\n",
        "# We compute the irradiance of the nova:\n",
        "nova_irradiance = irradiance(tcrb_mag_nova)\n",
        "\n",
        "print(f\"TCrB Nova brightness in W/m^2: {nova_irradiance}\")"
      ],
      "metadata": {
        "colab": {
          "base_uri": "https://localhost:8080/"
        },
        "id": "cUfYi1fiFCsz",
        "outputId": "2c36926b-d8a9-475d-b92b-e1b92d24a54b"
      },
      "execution_count": 3,
      "outputs": [
        {
          "output_type": "stream",
          "name": "stdout",
          "text": [
            "TCrB Nova brightness in W/m^2: 3.99079434454391e-09\n"
          ]
        }
      ]
    },
    {
      "cell_type": "code",
      "source": [
        "# If you want to \"play around\" with different magnitudes: Use e.g., Stellarium to determine some\n",
        "# values.\n",
        "# Example: Sun:       -26.74 mag\n",
        "#          Full Moon: -12.60 mag\n",
        "#          Vega:        0.00 mag"
      ],
      "metadata": {
        "id": "bWjdJTEqzvbM"
      },
      "execution_count": 4,
      "outputs": []
    },
    {
      "cell_type": "code",
      "source": [
        "# The absolute magnitude is a normalized scale to compare stars more easily. It computes the\n",
        "# brightness of star in magnitudes with respect to a distance of 10 parsec (around 32.616 lightyrs)\n",
        "abs_mag = lambda app_mag, d_pc: app_mag - 5.0 * math.log10(d_pc / 10.0)\n",
        "\n",
        "# Vega\n",
        "app_mag_vega = 0.00\n",
        "vega_brightness = abs_mag(app_mag_vega, 7.7)\n",
        "\n",
        "print(f\"Vega abs. mag.: {vega_brightness}\")\n",
        "# Source: https://en.wikipedia.org/wiki/Vega\n",
        "# Abs. Mag: ~0.58"
      ],
      "metadata": {
        "id": "FgKgfJvm11Uv",
        "outputId": "91ba0ace-9ef3-4693-e968-4b4733e9e2fd",
        "colab": {
          "base_uri": "https://localhost:8080/"
        }
      },
      "execution_count": 9,
      "outputs": [
        {
          "output_type": "stream",
          "name": "stdout",
          "text": [
            "Vega abs. mag.: 0.5675463741375906\n"
          ]
        }
      ]
    }
  ]
}